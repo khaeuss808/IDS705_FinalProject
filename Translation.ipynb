{
 "cells": [
  {
   "cell_type": "code",
   "execution_count": 1,
   "metadata": {},
   "outputs": [],
   "source": [
    "import pandas as pd\n",
    "from deep_translator import GoogleTranslator\n",
    "\n",
    "# Load your full dataset\n",
    "df = pd.read_csv(\"1900rows_data.csv\")\n",
    "\n",
    "# Rename for consistency\n",
    "df = df.rename(columns={\"text\": \"phrase\", \"LABEL\": \"label\"})\n",
    "\n",
    "# Sample a few rows for zero-shot testing\n",
    "sample_df = df.sample(10, random_state=42).reset_index(drop=True)"
   ]
  },
  {
   "cell_type": "code",
   "execution_count": 2,
   "metadata": {},
   "outputs": [],
   "source": [
    "sample_df[\"translated_phrase\"] = sample_df[\"phrase\"].apply(\n",
    "    lambda x: GoogleTranslator(source=\"en\", target=\"zh-CN\").translate(x)\n",
    ")"
   ]
  },
  {
   "cell_type": "code",
   "execution_count": 3,
   "metadata": {},
   "outputs": [
    {
     "name": "stdout",
     "output_type": "stream",
     "text": [
      "\n",
      "English: I've been feeling really weak in my muscles and my neck has been really stiff. My joints have been swelling up and it's hard for me to move around without feeling stiff. Walking has been really painful too.\n",
      "中文翻译: 我的肌肉感觉真的很虚弱，脖子真的很僵硬。我的关节一直在肿胀，我很难四处走动而不会感到僵硬。步行也确实很痛苦。\n",
      "\n",
      "English: when i extend my leg there is pain in knee joint\n",
      "中文翻译: 当我伸出腿时，膝关节会疼痛\n",
      "\n",
      "English: My bloody stools have caused me to lose a lot of things, including iron and bloos. I now have anaemia as a result, and I typically feel rather weak.\n",
      "中文翻译: 我的血腥凳子使我失去了很多东西，包括铁和蓝色。结果，我现在患有贫血，通常我会感到很虚弱。\n",
      "\n",
      "English: My skin is red and scratchy. These can occasionally flake. My cheeks and lips swell, which is really annoying. I occasionally have headaches and runny eyes because to the puffing.\n",
      "中文翻译: 我的皮肤是红色的。这些偶尔会剥落。我的脸颊和嘴唇肿胀，这真的很烦人。我偶尔会头痛和流鼻涕，因为浮肿。\n",
      "\n",
      "English: I have a cut on my foot that became infected from using the showers at the gym.\n",
      "中文翻译: 我的脚割伤了，由于在健身房使用淋浴而被感染。\n",
      "\n",
      "English: I have been experiencing symptoms such as a headache, chest pain, dizziness, loss of balance, and difficulty focusing.\n",
      "中文翻译: 我一直在遇到症状，例如头痛，胸痛，头晕，平衡丧失和困难。\n",
      "\n",
      "English: My knee hurts when I walk\n",
      "中文翻译: 我走路时膝盖疼\n",
      "\n",
      "English: It feels like I can't take a deep breath\n",
      "中文翻译: 感觉我不能深吸一口气\n",
      "\n",
      "English: I have a cut that is red and swollen.\n",
      "中文翻译: 我有一个红色和肿胀的切口。\n",
      "\n",
      "English: I have a high temperature, vomiting, chills, and severe itching. In addition, I've been perspiring a lot and have a headache. I've also been bothered by nausea and muscle ache.\n",
      "中文翻译: 我有高温，呕吐，发冷和严重的瘙痒。此外，我一直在说话很多，头痛。我也因恶心和肌肉疼痛而困扰。\n"
     ]
    }
   ],
   "source": [
    "for i, row in sample_df.iterrows():\n",
    "    print(f\"\\nEnglish: {row['phrase']}\")\n",
    "    print(f\"中文翻译: {row['translated_phrase']}\")"
   ]
  },
  {
   "cell_type": "code",
   "execution_count": null,
   "metadata": {},
   "outputs": [],
   "source": [
    "from transformers import AutoTokenizer, AutoModelForSequenceClassification\n",
    "import torch\n",
    "\n",
    "# Load tokenizer and model (replace with your fine-tuned model path if available)\n",
    "tokenizer = AutoTokenizer.from_pretrained(\"roberta-base\")\n",
    "model = AutoModelForSequenceClassification.from_pretrained(\"path_to_your_model\")\n",
    "\n",
    "# Tokenize Chinese input\n",
    "inputs = tokenizer(\n",
    "    sample_df[\"translated_phrase\"].tolist(),\n",
    "    return_tensors=\"pt\",\n",
    "    truncation=True,\n",
    "    padding=True\n",
    ")\n",
    "\n",
    "# Predict\n",
    "model.eval()\n",
    "with torch.no_grad():\n",
    "    outputs = model(**inputs)\n",
    "    preds = torch.argmax(outputs.logits, dim=1)\n"
   ]
  },
  {
   "cell_type": "code",
   "execution_count": 9,
   "metadata": {},
   "outputs": [],
   "source": [
    "from transformers import BertTokenizer, BertForSequenceClassification\n",
    "import torch\n",
    "\n",
    "# Load your fine-tuned model\n",
    "model_path = \"bert_output\"\n",
    "tokenizer = BertTokenizer.from_pretrained(\"bert-base-uncased\")\n",
    "model = BertForSequenceClassification.from_pretrained(model_path)\n",
    "model.eval()\n",
    "\n",
    "# Tokenize Chinese text (zero-shot)\n",
    "inputs = tokenizer(\n",
    "    sample_df[\"translated_phrase\"].tolist(),\n",
    "    padding=True,\n",
    "    truncation=True,\n",
    "    return_tensors=\"pt\",\n",
    ")\n",
    "\n",
    "with torch.no_grad():\n",
    "    outputs = model(**inputs)\n",
    "    predictions = torch.argmax(outputs.logits, dim=1)"
   ]
  },
  {
   "cell_type": "code",
   "execution_count": 10,
   "metadata": {},
   "outputs": [
    {
     "data": {
      "text/html": [
       "<div>\n",
       "<style scoped>\n",
       "    .dataframe tbody tr th:only-of-type {\n",
       "        vertical-align: middle;\n",
       "    }\n",
       "\n",
       "    .dataframe tbody tr th {\n",
       "        vertical-align: top;\n",
       "    }\n",
       "\n",
       "    .dataframe thead th {\n",
       "        text-align: right;\n",
       "    }\n",
       "</style>\n",
       "<table border=\"1\" class=\"dataframe\">\n",
       "  <thead>\n",
       "    <tr style=\"text-align: right;\">\n",
       "      <th></th>\n",
       "      <th>phrase</th>\n",
       "      <th>translated_phrase</th>\n",
       "      <th>label</th>\n",
       "      <th>predicted_label</th>\n",
       "    </tr>\n",
       "  </thead>\n",
       "  <tbody>\n",
       "    <tr>\n",
       "      <th>0</th>\n",
       "      <td>I've been feeling really weak in my muscles an...</td>\n",
       "      <td>我的肌肉感觉真的很虚弱，脖子真的很僵硬。我的关节一直在肿胀，我很难四处走动而不会感到僵硬。步...</td>\n",
       "      <td>Chronic Conditions</td>\n",
       "      <td>Neurological &amp; General Symptoms</td>\n",
       "    </tr>\n",
       "    <tr>\n",
       "      <th>1</th>\n",
       "      <td>when i extend my leg there is pain in knee joint</td>\n",
       "      <td>当我伸出腿时，膝关节会疼痛</td>\n",
       "      <td>Pain-related Conditions</td>\n",
       "      <td>Neurological &amp; General Symptoms</td>\n",
       "    </tr>\n",
       "    <tr>\n",
       "      <th>2</th>\n",
       "      <td>My bloody stools have caused me to lose a lot ...</td>\n",
       "      <td>我的血腥凳子使我失去了很多东西，包括铁和蓝色。结果，我现在患有贫血，通常我会感到很虚弱。</td>\n",
       "      <td>Gastrointestinal Conditions</td>\n",
       "      <td>Neurological &amp; General Symptoms</td>\n",
       "    </tr>\n",
       "    <tr>\n",
       "      <th>3</th>\n",
       "      <td>My skin is red and scratchy. These can occasio...</td>\n",
       "      <td>我的皮肤是红色的。这些偶尔会剥落。我的脸颊和嘴唇肿胀，这真的很烦人。我偶尔会头痛和流鼻涕，因...</td>\n",
       "      <td>Allergic/Immunologic Reactions</td>\n",
       "      <td>Neurological &amp; General Symptoms</td>\n",
       "    </tr>\n",
       "    <tr>\n",
       "      <th>4</th>\n",
       "      <td>I have a cut on my foot that became infected f...</td>\n",
       "      <td>我的脚割伤了，由于在健身房使用淋浴而被感染。</td>\n",
       "      <td>Infections</td>\n",
       "      <td>Neurological &amp; General Symptoms</td>\n",
       "    </tr>\n",
       "    <tr>\n",
       "      <th>5</th>\n",
       "      <td>I have been experiencing symptoms such as a he...</td>\n",
       "      <td>我一直在遇到症状，例如头痛，胸痛，头晕，平衡丧失和困难。</td>\n",
       "      <td>Chronic Conditions</td>\n",
       "      <td>Neurological &amp; General Symptoms</td>\n",
       "    </tr>\n",
       "    <tr>\n",
       "      <th>6</th>\n",
       "      <td>My knee hurts when I walk</td>\n",
       "      <td>我走路时膝盖疼</td>\n",
       "      <td>Pain-related Conditions</td>\n",
       "      <td>Neurological &amp; General Symptoms</td>\n",
       "    </tr>\n",
       "    <tr>\n",
       "      <th>7</th>\n",
       "      <td>It feels like I can't take a deep breath</td>\n",
       "      <td>感觉我不能深吸一口气</td>\n",
       "      <td>Respiratory &amp; Sensory Issues</td>\n",
       "      <td>Neurological &amp; General Symptoms</td>\n",
       "    </tr>\n",
       "    <tr>\n",
       "      <th>8</th>\n",
       "      <td>I have a cut that is red and swollen.</td>\n",
       "      <td>我有一个红色和肿胀的切口。</td>\n",
       "      <td>Infections</td>\n",
       "      <td>Neurological &amp; General Symptoms</td>\n",
       "    </tr>\n",
       "    <tr>\n",
       "      <th>9</th>\n",
       "      <td>I have a high temperature, vomiting, chills, a...</td>\n",
       "      <td>我有高温，呕吐，发冷和严重的瘙痒。此外，我一直在说话很多，头痛。我也因恶心和肌肉疼痛而困扰。</td>\n",
       "      <td>Infections</td>\n",
       "      <td>Neurological &amp; General Symptoms</td>\n",
       "    </tr>\n",
       "  </tbody>\n",
       "</table>\n",
       "</div>"
      ],
      "text/plain": [
       "                                              phrase  \\\n",
       "0  I've been feeling really weak in my muscles an...   \n",
       "1   when i extend my leg there is pain in knee joint   \n",
       "2  My bloody stools have caused me to lose a lot ...   \n",
       "3  My skin is red and scratchy. These can occasio...   \n",
       "4  I have a cut on my foot that became infected f...   \n",
       "5  I have been experiencing symptoms such as a he...   \n",
       "6                          My knee hurts when I walk   \n",
       "7           It feels like I can't take a deep breath   \n",
       "8              I have a cut that is red and swollen.   \n",
       "9  I have a high temperature, vomiting, chills, a...   \n",
       "\n",
       "                                   translated_phrase  \\\n",
       "0  我的肌肉感觉真的很虚弱，脖子真的很僵硬。我的关节一直在肿胀，我很难四处走动而不会感到僵硬。步...   \n",
       "1                                      当我伸出腿时，膝关节会疼痛   \n",
       "2       我的血腥凳子使我失去了很多东西，包括铁和蓝色。结果，我现在患有贫血，通常我会感到很虚弱。   \n",
       "3  我的皮肤是红色的。这些偶尔会剥落。我的脸颊和嘴唇肿胀，这真的很烦人。我偶尔会头痛和流鼻涕，因...   \n",
       "4                             我的脚割伤了，由于在健身房使用淋浴而被感染。   \n",
       "5                       我一直在遇到症状，例如头痛，胸痛，头晕，平衡丧失和困难。   \n",
       "6                                            我走路时膝盖疼   \n",
       "7                                         感觉我不能深吸一口气   \n",
       "8                                      我有一个红色和肿胀的切口。   \n",
       "9     我有高温，呕吐，发冷和严重的瘙痒。此外，我一直在说话很多，头痛。我也因恶心和肌肉疼痛而困扰。   \n",
       "\n",
       "                            label                  predicted_label  \n",
       "0              Chronic Conditions  Neurological & General Symptoms  \n",
       "1         Pain-related Conditions  Neurological & General Symptoms  \n",
       "2     Gastrointestinal Conditions  Neurological & General Symptoms  \n",
       "3  Allergic/Immunologic Reactions  Neurological & General Symptoms  \n",
       "4                      Infections  Neurological & General Symptoms  \n",
       "5              Chronic Conditions  Neurological & General Symptoms  \n",
       "6         Pain-related Conditions  Neurological & General Symptoms  \n",
       "7    Respiratory & Sensory Issues  Neurological & General Symptoms  \n",
       "8                      Infections  Neurological & General Symptoms  \n",
       "9                      Infections  Neurological & General Symptoms  "
      ]
     },
     "execution_count": 10,
     "metadata": {},
     "output_type": "execute_result"
    }
   ],
   "source": [
    "# Your label mapping\n",
    "id2label = {\n",
    "    0: \"Neurological & General Symptoms\",\n",
    "    1: \"Dermatological & Skin Conditions\",\n",
    "    2: \"Chronic Conditions\",\n",
    "    3: \"Infections\",\n",
    "    4: \"Pain-related Conditions\",\n",
    "    5: \"Respiratory & Sensory Issues\",\n",
    "    6: \"Gastrointestinal Conditions\",\n",
    "    7: \"Allergic/Immunologic Reactions\",\n",
    "    8: \"Hepatobiliary\",\n",
    "    9: \"Trauma/Injuries\",\n",
    "}\n",
    "\n",
    "# Add predictions to your dataframe\n",
    "sample_df[\"predicted_label\"] = [id2label[p.item()] for p in predictions]\n",
    "\n",
    "# Show results\n",
    "sample_df[[\"phrase\", \"translated_phrase\", \"label\", \"predicted_label\"]]"
   ]
  },
  {
   "cell_type": "markdown",
   "metadata": {},
   "source": [
    "**All Chinese-translated inputs were classified as Neurological & General Symptoms, likely due to the English-only tokenizer failing to recognize Chinese characters. This confirms that zero-shot inference across entirely different scripts (e.g., Latin → Chinese) is not feasible with monolingual models.**"
   ]
  },
  {
   "cell_type": "markdown",
   "metadata": {},
   "source": [
    "## bert-base-multilingual-cased"
   ]
  },
  {
   "cell_type": "code",
   "execution_count": 11,
   "metadata": {},
   "outputs": [
    {
     "data": {
      "application/vnd.jupyter.widget-view+json": {
       "model_id": "973c5794a00d4e70a829f86cd9daa767",
       "version_major": 2,
       "version_minor": 0
      },
      "text/plain": [
       "tokenizer_config.json:   0%|          | 0.00/49.0 [00:00<?, ?B/s]"
      ]
     },
     "metadata": {},
     "output_type": "display_data"
    },
    {
     "data": {
      "application/vnd.jupyter.widget-view+json": {
       "model_id": "84b7c53a572347cf838165a6681ee3b8",
       "version_major": 2,
       "version_minor": 0
      },
      "text/plain": [
       "vocab.txt:   0%|          | 0.00/996k [00:00<?, ?B/s]"
      ]
     },
     "metadata": {},
     "output_type": "display_data"
    },
    {
     "data": {
      "application/vnd.jupyter.widget-view+json": {
       "model_id": "820c177235a04c5e982f5e18bfdceb89",
       "version_major": 2,
       "version_minor": 0
      },
      "text/plain": [
       "tokenizer.json:   0%|          | 0.00/1.96M [00:00<?, ?B/s]"
      ]
     },
     "metadata": {},
     "output_type": "display_data"
    },
    {
     "data": {
      "application/vnd.jupyter.widget-view+json": {
       "model_id": "9a7faeb2ffcb4e83b5ee3b72d59c27a5",
       "version_major": 2,
       "version_minor": 0
      },
      "text/plain": [
       "config.json:   0%|          | 0.00/625 [00:00<?, ?B/s]"
      ]
     },
     "metadata": {},
     "output_type": "display_data"
    },
    {
     "data": {
      "application/vnd.jupyter.widget-view+json": {
       "model_id": "58be4e5013bb4daaae0a4280671fae00",
       "version_major": 2,
       "version_minor": 0
      },
      "text/plain": [
       "model.safetensors:   0%|          | 0.00/714M [00:00<?, ?B/s]"
      ]
     },
     "metadata": {},
     "output_type": "display_data"
    },
    {
     "name": "stderr",
     "output_type": "stream",
     "text": [
      "Some weights of BertForSequenceClassification were not initialized from the model checkpoint at bert-base-multilingual-cased and are newly initialized: ['classifier.bias', 'classifier.weight']\n",
      "You should probably TRAIN this model on a down-stream task to be able to use it for predictions and inference.\n"
     ]
    },
    {
     "data": {
      "text/plain": [
       "BertForSequenceClassification(\n",
       "  (bert): BertModel(\n",
       "    (embeddings): BertEmbeddings(\n",
       "      (word_embeddings): Embedding(119547, 768, padding_idx=0)\n",
       "      (position_embeddings): Embedding(512, 768)\n",
       "      (token_type_embeddings): Embedding(2, 768)\n",
       "      (LayerNorm): LayerNorm((768,), eps=1e-12, elementwise_affine=True)\n",
       "      (dropout): Dropout(p=0.1, inplace=False)\n",
       "    )\n",
       "    (encoder): BertEncoder(\n",
       "      (layer): ModuleList(\n",
       "        (0-11): 12 x BertLayer(\n",
       "          (attention): BertAttention(\n",
       "            (self): BertSdpaSelfAttention(\n",
       "              (query): Linear(in_features=768, out_features=768, bias=True)\n",
       "              (key): Linear(in_features=768, out_features=768, bias=True)\n",
       "              (value): Linear(in_features=768, out_features=768, bias=True)\n",
       "              (dropout): Dropout(p=0.1, inplace=False)\n",
       "            )\n",
       "            (output): BertSelfOutput(\n",
       "              (dense): Linear(in_features=768, out_features=768, bias=True)\n",
       "              (LayerNorm): LayerNorm((768,), eps=1e-12, elementwise_affine=True)\n",
       "              (dropout): Dropout(p=0.1, inplace=False)\n",
       "            )\n",
       "          )\n",
       "          (intermediate): BertIntermediate(\n",
       "            (dense): Linear(in_features=768, out_features=3072, bias=True)\n",
       "            (intermediate_act_fn): GELUActivation()\n",
       "          )\n",
       "          (output): BertOutput(\n",
       "            (dense): Linear(in_features=3072, out_features=768, bias=True)\n",
       "            (LayerNorm): LayerNorm((768,), eps=1e-12, elementwise_affine=True)\n",
       "            (dropout): Dropout(p=0.1, inplace=False)\n",
       "          )\n",
       "        )\n",
       "      )\n",
       "    )\n",
       "    (pooler): BertPooler(\n",
       "      (dense): Linear(in_features=768, out_features=768, bias=True)\n",
       "      (activation): Tanh()\n",
       "    )\n",
       "  )\n",
       "  (dropout): Dropout(p=0.1, inplace=False)\n",
       "  (classifier): Linear(in_features=768, out_features=10, bias=True)\n",
       ")"
      ]
     },
     "execution_count": 11,
     "metadata": {},
     "output_type": "execute_result"
    }
   ],
   "source": [
    "from transformers import BertTokenizer, BertForSequenceClassification\n",
    "import torch\n",
    "\n",
    "# Load multilingual BERT\n",
    "model_name = \"bert-base-multilingual-cased\"\n",
    "tokenizer = BertTokenizer.from_pretrained(model_name)\n",
    "model = BertForSequenceClassification.from_pretrained(\n",
    "    model_name, num_labels=10\n",
    ")  # 10 = number of your medical classes\n",
    "model.eval()"
   ]
  }
 ],
 "metadata": {
  "kernelspec": {
   "display_name": "base",
   "language": "python",
   "name": "python3"
  },
  "language_info": {
   "codemirror_mode": {
    "name": "ipython",
    "version": 3
   },
   "file_extension": ".py",
   "mimetype": "text/x-python",
   "name": "python",
   "nbconvert_exporter": "python",
   "pygments_lexer": "ipython3",
   "version": "3.12.6"
  }
 },
 "nbformat": 4,
 "nbformat_minor": 2
}
