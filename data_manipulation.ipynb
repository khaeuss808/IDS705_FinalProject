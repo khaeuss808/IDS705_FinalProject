{
 "cells": [
  {
   "cell_type": "code",
   "execution_count": 1,
   "metadata": {},
   "outputs": [],
   "source": [
    "import pandas as pd"
   ]
  },
  {
   "cell_type": "markdown",
   "metadata": {},
   "source": [
    "# consolidation of datasets"
   ]
  },
  {
   "cell_type": "markdown",
   "metadata": {},
   "source": [
    "### dataset 1"
   ]
  },
  {
   "cell_type": "markdown",
   "metadata": {},
   "source": [
    "https://www.kaggle.com/datasets/paultimothymooney/medical-speech-transcription-and-intent/data"
   ]
  },
  {
   "cell_type": "code",
   "execution_count": 2,
   "metadata": {},
   "outputs": [
    {
     "data": {
      "text/html": [
       "<div>\n",
       "<style scoped>\n",
       "    .dataframe tbody tr th:only-of-type {\n",
       "        vertical-align: middle;\n",
       "    }\n",
       "\n",
       "    .dataframe tbody tr th {\n",
       "        vertical-align: top;\n",
       "    }\n",
       "\n",
       "    .dataframe thead th {\n",
       "        text-align: right;\n",
       "    }\n",
       "</style>\n",
       "<table border=\"1\" class=\"dataframe\">\n",
       "  <thead>\n",
       "    <tr style=\"text-align: right;\">\n",
       "      <th></th>\n",
       "      <th>text</th>\n",
       "      <th>og_label</th>\n",
       "    </tr>\n",
       "  </thead>\n",
       "  <tbody>\n",
       "    <tr>\n",
       "      <th>0</th>\n",
       "      <td>When I remember her I feel down</td>\n",
       "      <td>Emotional pain</td>\n",
       "    </tr>\n",
       "    <tr>\n",
       "      <th>1</th>\n",
       "      <td>When I carry heavy things I feel like breaking...</td>\n",
       "      <td>Hair falling out</td>\n",
       "    </tr>\n",
       "    <tr>\n",
       "      <th>2</th>\n",
       "      <td>there is too much pain when i move my arm</td>\n",
       "      <td>Heart hurts</td>\n",
       "    </tr>\n",
       "    <tr>\n",
       "      <th>3</th>\n",
       "      <td>My son had his lip pierced and it is swollen a...</td>\n",
       "      <td>Infected wound</td>\n",
       "    </tr>\n",
       "    <tr>\n",
       "      <th>4</th>\n",
       "      <td>My muscles in my lower back are aching</td>\n",
       "      <td>Infected wound</td>\n",
       "    </tr>\n",
       "  </tbody>\n",
       "</table>\n",
       "</div>"
      ],
      "text/plain": [
       "                                                text          og_label\n",
       "0                    When I remember her I feel down    Emotional pain\n",
       "1  When I carry heavy things I feel like breaking...  Hair falling out\n",
       "2          there is too much pain when i move my arm       Heart hurts\n",
       "3  My son had his lip pierced and it is swollen a...    Infected wound\n",
       "4             My muscles in my lower back are aching    Infected wound"
      ]
     },
     "execution_count": 2,
     "metadata": {},
     "output_type": "execute_result"
    }
   ],
   "source": [
    "# this is that dataset that has the audio recording, on Kaggle\n",
    "df = pd.read_csv(\"./data/original_datasets/overview-of-recordings.csv\")\n",
    "df = df[[\"phrase\", \"prompt\"]]\n",
    "# i want it to be called phrase, label for column names\n",
    "df = df.rename(columns={\"phrase\": \"text\", \"prompt\": \"og_label\"})\n",
    "df.head()"
   ]
  },
  {
   "cell_type": "code",
   "execution_count": 3,
   "metadata": {},
   "outputs": [
    {
     "data": {
      "text/plain": [
       "(6661, 2)"
      ]
     },
     "execution_count": 3,
     "metadata": {},
     "output_type": "execute_result"
    }
   ],
   "source": [
    "df.shape"
   ]
  },
  {
   "cell_type": "code",
   "execution_count": 4,
   "metadata": {},
   "outputs": [
    {
     "data": {
      "text/plain": [
       "og_label\n",
       "Acne                  328\n",
       "Shoulder pain         320\n",
       "Joint pain            318\n",
       "Infected wound        306\n",
       "Knee pain             305\n",
       "Cough                 293\n",
       "Feeling dizzy         283\n",
       "Muscle pain           282\n",
       "Heart hurts           273\n",
       "Ear ache              270\n",
       "Hair falling out      264\n",
       "Head ache             263\n",
       "Feeling cold          263\n",
       "Skin issue            262\n",
       "Stomach ache          261\n",
       "Back pain             259\n",
       "Neck pain             251\n",
       "Internal pain         248\n",
       "Blurry vision         246\n",
       "Body feels weak       241\n",
       "Hard to breath        233\n",
       "Emotional pain        231\n",
       "Injury from sports    230\n",
       "Foot ache             223\n",
       "Open wound            208\n",
       "Name: count, dtype: int64"
      ]
     },
     "execution_count": 4,
     "metadata": {},
     "output_type": "execute_result"
    }
   ],
   "source": [
    "df[\"og_label\"].value_counts()"
   ]
  },
  {
   "cell_type": "code",
   "execution_count": 5,
   "metadata": {},
   "outputs": [
    {
     "name": "stdout",
     "output_type": "stream",
     "text": [
      "Total phrases: 6661\n",
      "Unique phrases: 706\n"
     ]
    }
   ],
   "source": [
    "# Unique phrases\n",
    "print(f\"Total phrases: {len(df)}\")\n",
    "print(f\"Unique phrases: {df['text'].nunique()}\")"
   ]
  },
  {
   "cell_type": "code",
   "execution_count": 6,
   "metadata": {},
   "outputs": [
    {
     "data": {
      "text/html": [
       "<div>\n",
       "<style scoped>\n",
       "    .dataframe tbody tr th:only-of-type {\n",
       "        vertical-align: middle;\n",
       "    }\n",
       "\n",
       "    .dataframe tbody tr th {\n",
       "        vertical-align: top;\n",
       "    }\n",
       "\n",
       "    .dataframe thead th {\n",
       "        text-align: right;\n",
       "    }\n",
       "</style>\n",
       "<table border=\"1\" class=\"dataframe\">\n",
       "  <thead>\n",
       "    <tr style=\"text-align: right;\">\n",
       "      <th></th>\n",
       "      <th>text</th>\n",
       "      <th>og_label</th>\n",
       "    </tr>\n",
       "  </thead>\n",
       "  <tbody>\n",
       "    <tr>\n",
       "      <th>1091</th>\n",
       "      <td>A terrible fall in hair</td>\n",
       "      <td>Hair falling out</td>\n",
       "    </tr>\n",
       "    <tr>\n",
       "      <th>5195</th>\n",
       "      <td>A terrible fall in hair</td>\n",
       "      <td>Hair falling out</td>\n",
       "    </tr>\n",
       "    <tr>\n",
       "      <th>4143</th>\n",
       "      <td>A terrible fall in hair</td>\n",
       "      <td>Hair falling out</td>\n",
       "    </tr>\n",
       "    <tr>\n",
       "      <th>1081</th>\n",
       "      <td>A terrible fall in hair</td>\n",
       "      <td>Hair falling out</td>\n",
       "    </tr>\n",
       "    <tr>\n",
       "      <th>1291</th>\n",
       "      <td>A terrible fall in hair</td>\n",
       "      <td>Hair falling out</td>\n",
       "    </tr>\n",
       "    <tr>\n",
       "      <th>4370</th>\n",
       "      <td>A terrible fall in hair</td>\n",
       "      <td>Hair falling out</td>\n",
       "    </tr>\n",
       "    <tr>\n",
       "      <th>4637</th>\n",
       "      <td>A terrible fall in hair</td>\n",
       "      <td>Hair falling out</td>\n",
       "    </tr>\n",
       "    <tr>\n",
       "      <th>4686</th>\n",
       "      <td>A terrible fall in hair</td>\n",
       "      <td>Hair falling out</td>\n",
       "    </tr>\n",
       "    <tr>\n",
       "      <th>192</th>\n",
       "      <td>A terrible fall in hair</td>\n",
       "      <td>Hair falling out</td>\n",
       "    </tr>\n",
       "    <tr>\n",
       "      <th>1019</th>\n",
       "      <td>After a breakup  I feel something strange in me.</td>\n",
       "      <td>Emotional pain</td>\n",
       "    </tr>\n",
       "  </tbody>\n",
       "</table>\n",
       "</div>"
      ],
      "text/plain": [
       "                                                  text          og_label\n",
       "1091                           A terrible fall in hair  Hair falling out\n",
       "5195                           A terrible fall in hair  Hair falling out\n",
       "4143                           A terrible fall in hair  Hair falling out\n",
       "1081                           A terrible fall in hair  Hair falling out\n",
       "1291                           A terrible fall in hair  Hair falling out\n",
       "4370                           A terrible fall in hair  Hair falling out\n",
       "4637                           A terrible fall in hair  Hair falling out\n",
       "4686                           A terrible fall in hair  Hair falling out\n",
       "192                            A terrible fall in hair  Hair falling out\n",
       "1019  After a breakup  I feel something strange in me.    Emotional pain"
      ]
     },
     "execution_count": 6,
     "metadata": {},
     "output_type": "execute_result"
    }
   ],
   "source": [
    "# Get all phrases that appear more than once\n",
    "dupe_phrases = df[\"text\"][df[\"text\"].duplicated(keep=False)]\n",
    "\n",
    "# Filter the original dataframe to show only those rows\n",
    "df_dupes = df[df[\"text\"].isin(dupe_phrases)]\n",
    "\n",
    "# Display the top rows\n",
    "df_dupes.sort_values(\"text\").head(10)"
   ]
  },
  {
   "cell_type": "markdown",
   "metadata": {},
   "source": [
    "There are many repeats in the dataset. Out of the original 6661 rows, there are only 706 unique rows in the patient text columns  \n",
    "\n",
    "Dug deeper into the original Kaggle dataset. Those with same text do have different audio (different people speaking in the recording audio file), but the recordings say the same phrase"
   ]
  },
  {
   "cell_type": "markdown",
   "metadata": {},
   "source": [
    "going to drop the duplicate rows"
   ]
  },
  {
   "cell_type": "code",
   "execution_count": 7,
   "metadata": {},
   "outputs": [
    {
     "name": "stdout",
     "output_type": "stream",
     "text": [
      "Original size: 6661\n",
      "After keeping one row per text: 706\n"
     ]
    },
    {
     "data": {
      "text/html": [
       "<div>\n",
       "<style scoped>\n",
       "    .dataframe tbody tr th:only-of-type {\n",
       "        vertical-align: middle;\n",
       "    }\n",
       "\n",
       "    .dataframe tbody tr th {\n",
       "        vertical-align: top;\n",
       "    }\n",
       "\n",
       "    .dataframe thead th {\n",
       "        text-align: right;\n",
       "    }\n",
       "</style>\n",
       "<table border=\"1\" class=\"dataframe\">\n",
       "  <thead>\n",
       "    <tr style=\"text-align: right;\">\n",
       "      <th></th>\n",
       "      <th>text</th>\n",
       "      <th>og_label</th>\n",
       "    </tr>\n",
       "  </thead>\n",
       "  <tbody>\n",
       "    <tr>\n",
       "      <th>0</th>\n",
       "      <td>When I remember her I feel down</td>\n",
       "      <td>Emotional pain</td>\n",
       "    </tr>\n",
       "    <tr>\n",
       "      <th>1</th>\n",
       "      <td>When I carry heavy things I feel like breaking...</td>\n",
       "      <td>Hair falling out</td>\n",
       "    </tr>\n",
       "    <tr>\n",
       "      <th>2</th>\n",
       "      <td>there is too much pain when i move my arm</td>\n",
       "      <td>Heart hurts</td>\n",
       "    </tr>\n",
       "    <tr>\n",
       "      <th>3</th>\n",
       "      <td>My son had his lip pierced and it is swollen a...</td>\n",
       "      <td>Infected wound</td>\n",
       "    </tr>\n",
       "    <tr>\n",
       "      <th>4</th>\n",
       "      <td>My muscles in my lower back are aching</td>\n",
       "      <td>Infected wound</td>\n",
       "    </tr>\n",
       "  </tbody>\n",
       "</table>\n",
       "</div>"
      ],
      "text/plain": [
       "                                                text          og_label\n",
       "0                    When I remember her I feel down    Emotional pain\n",
       "1  When I carry heavy things I feel like breaking...  Hair falling out\n",
       "2          there is too much pain when i move my arm       Heart hurts\n",
       "3  My son had his lip pierced and it is swollen a...    Infected wound\n",
       "4             My muscles in my lower back are aching    Infected wound"
      ]
     },
     "execution_count": 7,
     "metadata": {},
     "output_type": "execute_result"
    }
   ],
   "source": [
    "df_unique_text = df.drop_duplicates(subset=\"text\", keep=\"first\")\n",
    "\n",
    "print(f\"Original size: {len(df)}\")\n",
    "print(f\"After keeping one row per text: {len(df_unique_text)}\")\n",
    "df_unique_text.head()"
   ]
  },
  {
   "cell_type": "markdown",
   "metadata": {},
   "source": [
    "by dropping the duplicate rows, we are now left with only 706 rows in this dataset"
   ]
  },
  {
   "cell_type": "markdown",
   "metadata": {},
   "source": [
    "### dataset 2"
   ]
  },
  {
   "cell_type": "markdown",
   "metadata": {},
   "source": [
    "https://www.kaggle.com/datasets/niyarrbarman/symptom2disease"
   ]
  },
  {
   "cell_type": "code",
   "execution_count": 8,
   "metadata": {},
   "outputs": [
    {
     "data": {
      "text/html": [
       "<div>\n",
       "<style scoped>\n",
       "    .dataframe tbody tr th:only-of-type {\n",
       "        vertical-align: middle;\n",
       "    }\n",
       "\n",
       "    .dataframe tbody tr th {\n",
       "        vertical-align: top;\n",
       "    }\n",
       "\n",
       "    .dataframe thead th {\n",
       "        text-align: right;\n",
       "    }\n",
       "</style>\n",
       "<table border=\"1\" class=\"dataframe\">\n",
       "  <thead>\n",
       "    <tr style=\"text-align: right;\">\n",
       "      <th></th>\n",
       "      <th>Unnamed: 0</th>\n",
       "      <th>label</th>\n",
       "      <th>text</th>\n",
       "    </tr>\n",
       "  </thead>\n",
       "  <tbody>\n",
       "    <tr>\n",
       "      <th>0</th>\n",
       "      <td>0</td>\n",
       "      <td>Psoriasis</td>\n",
       "      <td>I have been experiencing a skin rash on my arm...</td>\n",
       "    </tr>\n",
       "    <tr>\n",
       "      <th>1</th>\n",
       "      <td>1</td>\n",
       "      <td>Psoriasis</td>\n",
       "      <td>My skin has been peeling, especially on my kne...</td>\n",
       "    </tr>\n",
       "    <tr>\n",
       "      <th>2</th>\n",
       "      <td>2</td>\n",
       "      <td>Psoriasis</td>\n",
       "      <td>I have been experiencing joint pain in my fing...</td>\n",
       "    </tr>\n",
       "    <tr>\n",
       "      <th>3</th>\n",
       "      <td>3</td>\n",
       "      <td>Psoriasis</td>\n",
       "      <td>There is a silver like dusting on my skin, esp...</td>\n",
       "    </tr>\n",
       "    <tr>\n",
       "      <th>4</th>\n",
       "      <td>4</td>\n",
       "      <td>Psoriasis</td>\n",
       "      <td>My nails have small dents or pits in them, and...</td>\n",
       "    </tr>\n",
       "  </tbody>\n",
       "</table>\n",
       "</div>"
      ],
      "text/plain": [
       "   Unnamed: 0      label                                               text\n",
       "0           0  Psoriasis  I have been experiencing a skin rash on my arm...\n",
       "1           1  Psoriasis  My skin has been peeling, especially on my kne...\n",
       "2           2  Psoriasis  I have been experiencing joint pain in my fing...\n",
       "3           3  Psoriasis  There is a silver like dusting on my skin, esp...\n",
       "4           4  Psoriasis  My nails have small dents or pits in them, and..."
      ]
     },
     "execution_count": 8,
     "metadata": {},
     "output_type": "execute_result"
    }
   ],
   "source": [
    "# this data comes from: https://www.kaggle.com/datasets/niyarrbarman/symptom2disease\n",
    "s2d_df = pd.read_csv(\"./data/original_datasets/Symptom2Disease.csv\")\n",
    "s2d_df.head()"
   ]
  },
  {
   "cell_type": "code",
   "execution_count": 9,
   "metadata": {},
   "outputs": [
    {
     "data": {
      "text/html": [
       "<div>\n",
       "<style scoped>\n",
       "    .dataframe tbody tr th:only-of-type {\n",
       "        vertical-align: middle;\n",
       "    }\n",
       "\n",
       "    .dataframe tbody tr th {\n",
       "        vertical-align: top;\n",
       "    }\n",
       "\n",
       "    .dataframe thead th {\n",
       "        text-align: right;\n",
       "    }\n",
       "</style>\n",
       "<table border=\"1\" class=\"dataframe\">\n",
       "  <thead>\n",
       "    <tr style=\"text-align: right;\">\n",
       "      <th></th>\n",
       "      <th>text</th>\n",
       "      <th>og_label</th>\n",
       "    </tr>\n",
       "  </thead>\n",
       "  <tbody>\n",
       "    <tr>\n",
       "      <th>0</th>\n",
       "      <td>I have been experiencing a skin rash on my arm...</td>\n",
       "      <td>Psoriasis</td>\n",
       "    </tr>\n",
       "    <tr>\n",
       "      <th>1</th>\n",
       "      <td>My skin has been peeling, especially on my kne...</td>\n",
       "      <td>Psoriasis</td>\n",
       "    </tr>\n",
       "    <tr>\n",
       "      <th>2</th>\n",
       "      <td>I have been experiencing joint pain in my fing...</td>\n",
       "      <td>Psoriasis</td>\n",
       "    </tr>\n",
       "    <tr>\n",
       "      <th>3</th>\n",
       "      <td>There is a silver like dusting on my skin, esp...</td>\n",
       "      <td>Psoriasis</td>\n",
       "    </tr>\n",
       "    <tr>\n",
       "      <th>4</th>\n",
       "      <td>My nails have small dents or pits in them, and...</td>\n",
       "      <td>Psoriasis</td>\n",
       "    </tr>\n",
       "  </tbody>\n",
       "</table>\n",
       "</div>"
      ],
      "text/plain": [
       "                                                text   og_label\n",
       "0  I have been experiencing a skin rash on my arm...  Psoriasis\n",
       "1  My skin has been peeling, especially on my kne...  Psoriasis\n",
       "2  I have been experiencing joint pain in my fing...  Psoriasis\n",
       "3  There is a silver like dusting on my skin, esp...  Psoriasis\n",
       "4  My nails have small dents or pits in them, and...  Psoriasis"
      ]
     },
     "execution_count": 9,
     "metadata": {},
     "output_type": "execute_result"
    }
   ],
   "source": [
    "s2d_df = s2d_df[[\"text\", \"label\"]]\n",
    "s2d_df = s2d_df.rename(columns={\"text\": \"text\", \"label\": \"og_label\"})\n",
    "s2d_df.head()"
   ]
  },
  {
   "cell_type": "code",
   "execution_count": 10,
   "metadata": {},
   "outputs": [
    {
     "data": {
      "text/plain": [
       "(1200, 2)"
      ]
     },
     "execution_count": 10,
     "metadata": {},
     "output_type": "execute_result"
    }
   ],
   "source": [
    "s2d_df.shape"
   ]
  },
  {
   "cell_type": "code",
   "execution_count": 11,
   "metadata": {},
   "outputs": [
    {
     "data": {
      "text/plain": [
       "og_label\n",
       "Psoriasis                          50\n",
       "Varicose Veins                     50\n",
       "peptic ulcer disease               50\n",
       "drug reaction                      50\n",
       "gastroesophageal reflux disease    50\n",
       "allergy                            50\n",
       "urinary tract infection            50\n",
       "Malaria                            50\n",
       "Jaundice                           50\n",
       "Cervical spondylosis               50\n",
       "Migraine                           50\n",
       "Hypertension                       50\n",
       "Bronchial Asthma                   50\n",
       "Acne                               50\n",
       "Arthritis                          50\n",
       "Dimorphic Hemorrhoids              50\n",
       "Pneumonia                          50\n",
       "Common Cold                        50\n",
       "Fungal infection                   50\n",
       "Dengue                             50\n",
       "Impetigo                           50\n",
       "Chicken pox                        50\n",
       "Typhoid                            50\n",
       "diabetes                           50\n",
       "Name: count, dtype: int64"
      ]
     },
     "execution_count": 11,
     "metadata": {},
     "output_type": "execute_result"
    }
   ],
   "source": [
    "s2d_df[\"og_label\"].value_counts()"
   ]
  },
  {
   "cell_type": "markdown",
   "metadata": {},
   "source": [
    "### dataset 3"
   ]
  },
  {
   "cell_type": "code",
   "execution_count": 12,
   "metadata": {},
   "outputs": [
    {
     "data": {
      "text/html": [
       "<div>\n",
       "<style scoped>\n",
       "    .dataframe tbody tr th:only-of-type {\n",
       "        vertical-align: middle;\n",
       "    }\n",
       "\n",
       "    .dataframe tbody tr th {\n",
       "        vertical-align: top;\n",
       "    }\n",
       "\n",
       "    .dataframe thead th {\n",
       "        text-align: right;\n",
       "    }\n",
       "</style>\n",
       "<table border=\"1\" class=\"dataframe\">\n",
       "  <thead>\n",
       "    <tr style=\"text-align: right;\">\n",
       "      <th></th>\n",
       "      <th>Code</th>\n",
       "      <th>Name</th>\n",
       "      <th>Symptoms</th>\n",
       "      <th>Treatments</th>\n",
       "    </tr>\n",
       "  </thead>\n",
       "  <tbody>\n",
       "    <tr>\n",
       "      <th>0</th>\n",
       "      <td>1</td>\n",
       "      <td>Panic disorder</td>\n",
       "      <td>Palpitations, Sweating, Trembling, Shortness o...</td>\n",
       "      <td>Antidepressant medications, Cognitive Behavior...</td>\n",
       "    </tr>\n",
       "    <tr>\n",
       "      <th>1</th>\n",
       "      <td>2</td>\n",
       "      <td>Vocal cord polyp</td>\n",
       "      <td>Hoarseness, Vocal Changes, Vocal Fatigue</td>\n",
       "      <td>Voice Rest, Speech Therapy, Surgical Removal</td>\n",
       "    </tr>\n",
       "    <tr>\n",
       "      <th>2</th>\n",
       "      <td>3</td>\n",
       "      <td>Turner syndrome</td>\n",
       "      <td>Short stature, Gonadal dysgenesis, Webbed neck...</td>\n",
       "      <td>Growth hormone therapy, Estrogen replacement t...</td>\n",
       "    </tr>\n",
       "    <tr>\n",
       "      <th>3</th>\n",
       "      <td>4</td>\n",
       "      <td>Cryptorchidism</td>\n",
       "      <td>Absence or undescended testicle(s), empty scro...</td>\n",
       "      <td>Observation and monitoring (in cases of mild o...</td>\n",
       "    </tr>\n",
       "    <tr>\n",
       "      <th>4</th>\n",
       "      <td>5</td>\n",
       "      <td>Ethylene glycol poisoning-1</td>\n",
       "      <td>Nausea, vomiting, abdominal pain, General mala...</td>\n",
       "      <td>Supportive Measures, Gastric Decontamination, ...</td>\n",
       "    </tr>\n",
       "  </tbody>\n",
       "</table>\n",
       "</div>"
      ],
      "text/plain": [
       "   Code                         Name  \\\n",
       "0     1               Panic disorder   \n",
       "1     2             Vocal cord polyp   \n",
       "2     3              Turner syndrome   \n",
       "3     4               Cryptorchidism   \n",
       "4     5  Ethylene glycol poisoning-1   \n",
       "\n",
       "                                            Symptoms  \\\n",
       "0  Palpitations, Sweating, Trembling, Shortness o...   \n",
       "1           Hoarseness, Vocal Changes, Vocal Fatigue   \n",
       "2  Short stature, Gonadal dysgenesis, Webbed neck...   \n",
       "3  Absence or undescended testicle(s), empty scro...   \n",
       "4  Nausea, vomiting, abdominal pain, General mala...   \n",
       "\n",
       "                                          Treatments  \n",
       "0  Antidepressant medications, Cognitive Behavior...  \n",
       "1       Voice Rest, Speech Therapy, Surgical Removal  \n",
       "2  Growth hormone therapy, Estrogen replacement t...  \n",
       "3  Observation and monitoring (in cases of mild o...  \n",
       "4  Supportive Measures, Gastric Decontamination, ...  "
      ]
     },
     "execution_count": 12,
     "metadata": {},
     "output_type": "execute_result"
    }
   ],
   "source": [
    "# https://huggingface.co/datasets/QuyenAnhDE/Diseases_Symptoms?utm_source=chatgpt.com\n",
    "ds_df = pd.read_csv(\"hf://datasets/QuyenAnhDE/Diseases_Symptoms/Diseases_Symptoms.csv\")\n",
    "ds_df.head()"
   ]
  },
  {
   "cell_type": "code",
   "execution_count": 13,
   "metadata": {},
   "outputs": [],
   "source": [
    "ds_df = ds_df[[\"Symptoms\", \"Name\"]]\n",
    "# i want it to be called phrase, label for column names\n",
    "ds_df = ds_df.rename(columns={\"Symptoms\": \"text\", \"Name\": \"og_label\"})"
   ]
  },
  {
   "cell_type": "code",
   "execution_count": 14,
   "metadata": {},
   "outputs": [
    {
     "data": {
      "text/plain": [
       "(400, 2)"
      ]
     },
     "execution_count": 14,
     "metadata": {},
     "output_type": "execute_result"
    }
   ],
   "source": [
    "ds_df.shape"
   ]
  },
  {
   "cell_type": "code",
   "execution_count": 15,
   "metadata": {},
   "outputs": [
    {
     "data": {
      "text/plain": [
       "og_label\n",
       "Sciatica                                 3\n",
       "Complex Regional Pain Syndrome (CRPS)    2\n",
       "Urinary Tract Infection (UTI)            2\n",
       "Mucocele                                 2\n",
       "Dermatitis due to Sun Exposure           2\n",
       "                                        ..\n",
       "Neonatal Jaundice                        1\n",
       "Presbycusis                              1\n",
       "Empyema                                  1\n",
       "Tuberous Sclerosis                       1\n",
       "Type 2 Diabetes                          1\n",
       "Name: count, Length: 392, dtype: int64"
      ]
     },
     "execution_count": 15,
     "metadata": {},
     "output_type": "execute_result"
    }
   ],
   "source": [
    "ds_df[\"og_label\"].value_counts()"
   ]
  },
  {
   "cell_type": "markdown",
   "metadata": {},
   "source": [
    "I am not going to include dataset 3 for the time being, as it requires me to do a lot research on these condition names, with not a lot of pay off as far as increasing our data size (only adds 400 rows)"
   ]
  },
  {
   "cell_type": "markdown",
   "metadata": {},
   "source": [
    "## bringing datasets together"
   ]
  },
  {
   "cell_type": "code",
   "execution_count": 16,
   "metadata": {},
   "outputs": [
    {
     "data": {
      "text/html": [
       "<div>\n",
       "<style scoped>\n",
       "    .dataframe tbody tr th:only-of-type {\n",
       "        vertical-align: middle;\n",
       "    }\n",
       "\n",
       "    .dataframe tbody tr th {\n",
       "        vertical-align: top;\n",
       "    }\n",
       "\n",
       "    .dataframe thead th {\n",
       "        text-align: right;\n",
       "    }\n",
       "</style>\n",
       "<table border=\"1\" class=\"dataframe\">\n",
       "  <thead>\n",
       "    <tr style=\"text-align: right;\">\n",
       "      <th></th>\n",
       "      <th>text</th>\n",
       "      <th>og_label</th>\n",
       "    </tr>\n",
       "  </thead>\n",
       "  <tbody>\n",
       "    <tr>\n",
       "      <th>0</th>\n",
       "      <td>When I remember her I feel down</td>\n",
       "      <td>Emotional pain</td>\n",
       "    </tr>\n",
       "    <tr>\n",
       "      <th>1</th>\n",
       "      <td>When I carry heavy things I feel like breaking...</td>\n",
       "      <td>Hair falling out</td>\n",
       "    </tr>\n",
       "    <tr>\n",
       "      <th>2</th>\n",
       "      <td>there is too much pain when i move my arm</td>\n",
       "      <td>Heart hurts</td>\n",
       "    </tr>\n",
       "    <tr>\n",
       "      <th>3</th>\n",
       "      <td>My son had his lip pierced and it is swollen a...</td>\n",
       "      <td>Infected wound</td>\n",
       "    </tr>\n",
       "    <tr>\n",
       "      <th>4</th>\n",
       "      <td>My muscles in my lower back are aching</td>\n",
       "      <td>Infected wound</td>\n",
       "    </tr>\n",
       "  </tbody>\n",
       "</table>\n",
       "</div>"
      ],
      "text/plain": [
       "                                                text          og_label\n",
       "0                    When I remember her I feel down    Emotional pain\n",
       "1  When I carry heavy things I feel like breaking...  Hair falling out\n",
       "2          there is too much pain when i move my arm       Heart hurts\n",
       "3  My son had his lip pierced and it is swollen a...    Infected wound\n",
       "4             My muscles in my lower back are aching    Infected wound"
      ]
     },
     "execution_count": 16,
     "metadata": {},
     "output_type": "execute_result"
    }
   ],
   "source": [
    "bigdata = pd.concat([df_unique_text, s2d_df, ds_df])\n",
    "bigdata.head()"
   ]
  },
  {
   "cell_type": "code",
   "execution_count": 17,
   "metadata": {},
   "outputs": [
    {
     "data": {
      "text/plain": [
       "(2306, 2)"
      ]
     },
     "execution_count": 17,
     "metadata": {},
     "output_type": "execute_result"
    }
   ],
   "source": [
    "bigdata.shape"
   ]
  },
  {
   "cell_type": "code",
   "execution_count": 18,
   "metadata": {},
   "outputs": [
    {
     "data": {
      "text/plain": [
       "og_label\n",
       "Acne                  84\n",
       "Psoriasis             51\n",
       "Pneumonia             51\n",
       "Varicose Veins        51\n",
       "Migraine              51\n",
       "                      ..\n",
       "Empyema                1\n",
       "Tuberous Sclerosis     1\n",
       "Astigmatism            1\n",
       "Acute Otitis Media     1\n",
       "Type 2 Diabetes        1\n",
       "Name: count, Length: 435, dtype: int64"
      ]
     },
     "execution_count": 18,
     "metadata": {},
     "output_type": "execute_result"
    }
   ],
   "source": [
    "bigdata[\"og_label\"].value_counts()"
   ]
  },
  {
   "cell_type": "code",
   "execution_count": 19,
   "metadata": {},
   "outputs": [
    {
     "data": {
      "text/html": [
       "<div>\n",
       "<style scoped>\n",
       "    .dataframe tbody tr th:only-of-type {\n",
       "        vertical-align: middle;\n",
       "    }\n",
       "\n",
       "    .dataframe tbody tr th {\n",
       "        vertical-align: top;\n",
       "    }\n",
       "\n",
       "    .dataframe thead th {\n",
       "        text-align: right;\n",
       "    }\n",
       "</style>\n",
       "<table border=\"1\" class=\"dataframe\">\n",
       "  <thead>\n",
       "    <tr style=\"text-align: right;\">\n",
       "      <th></th>\n",
       "      <th>text</th>\n",
       "      <th>og_label</th>\n",
       "      <th>LABEL</th>\n",
       "    </tr>\n",
       "  </thead>\n",
       "  <tbody>\n",
       "    <tr>\n",
       "      <th>0</th>\n",
       "      <td>When I remember her I feel down</td>\n",
       "      <td>Emotional pain</td>\n",
       "      <td>None</td>\n",
       "    </tr>\n",
       "    <tr>\n",
       "      <th>1</th>\n",
       "      <td>When I carry heavy things I feel like breaking...</td>\n",
       "      <td>Hair falling out</td>\n",
       "      <td>None</td>\n",
       "    </tr>\n",
       "    <tr>\n",
       "      <th>2</th>\n",
       "      <td>there is too much pain when i move my arm</td>\n",
       "      <td>Heart hurts</td>\n",
       "      <td>None</td>\n",
       "    </tr>\n",
       "    <tr>\n",
       "      <th>3</th>\n",
       "      <td>My son had his lip pierced and it is swollen a...</td>\n",
       "      <td>Infected wound</td>\n",
       "      <td>None</td>\n",
       "    </tr>\n",
       "    <tr>\n",
       "      <th>4</th>\n",
       "      <td>My muscles in my lower back are aching</td>\n",
       "      <td>Infected wound</td>\n",
       "      <td>None</td>\n",
       "    </tr>\n",
       "  </tbody>\n",
       "</table>\n",
       "</div>"
      ],
      "text/plain": [
       "                                                text          og_label LABEL\n",
       "0                    When I remember her I feel down    Emotional pain  None\n",
       "1  When I carry heavy things I feel like breaking...  Hair falling out  None\n",
       "2          there is too much pain when i move my arm       Heart hurts  None\n",
       "3  My son had his lip pierced and it is swollen a...    Infected wound  None\n",
       "4             My muscles in my lower back are aching    Infected wound  None"
      ]
     },
     "execution_count": 19,
     "metadata": {},
     "output_type": "execute_result"
    }
   ],
   "source": [
    "bigdata[\"LABEL\"] = None\n",
    "bigdata.head()"
   ]
  },
  {
   "cell_type": "markdown",
   "metadata": {},
   "source": [
    "dermatology\n",
    "    acne\n",
    "    hair falling out\n",
    "    skin issue\n",
    "    Psoriasis\n",
    "    Acne\n",
    "    Dermatitis due to Sun Exposure  \n",
    "\n",
    "psychological\n",
    "    Emotional pain\n",
    "\n",
    "diabetes\n",
    "\n",
    "body pain\n",
    "    Shoulder pain\n",
    "    Joint pain\n",
    "    Knee pain\n",
    "    Muscle pain\n",
    "    Back pain\n",
    "    Neck pain\n",
    "    Foot ache\n",
    "\n",
    "gynecology/urology\n",
    "    Urinary Tract Infection (UTI)\n",
    "    urinary tract infection \n"
   ]
  },
  {
   "cell_type": "code",
   "execution_count": 27,
   "metadata": {},
   "outputs": [],
   "source": [
    "medical_condition_mapping = {\n",
    "    \"Infections\": [\n",
    "        \"Infected wound\",\n",
    "        \"Open wound\",\n",
    "        \"Fungal infection\",\n",
    "        \"Pneumonia\",\n",
    "        \"Malaria\",\n",
    "        \"Dengue\",\n",
    "        \"Typhoid\",\n",
    "        \"urinary tract infection\",\n",
    "        \"Urinary Tract Infection (UTI)\",\n",
    "        \"Empyema\",\n",
    "        \"Acute Otitis Media\",\n",
    "        \"Chancroid\",\n",
    "        \"Cold Sore\",\n",
    "        \"Herpangina\",\n",
    "        \"Pharyngitis\",\n",
    "        \"Infection of Open Wound\",\n",
    "        \"Abscess of Nose\",\n",
    "        \"Cryptococcosis\",\n",
    "    ],\n",
    "    \"Dermatological & Skin Conditions\": [\n",
    "        \"Acne\",\n",
    "        \"Skin issue\",\n",
    "        \"Hair falling out\",\n",
    "        \"Psoriasis\",\n",
    "        \"Dimorphic Hemorrhoids\",\n",
    "        \"Impetigo\",\n",
    "        \"Chicken pox\",\n",
    "        \"Dermatitis due to Sun Exposure\",\n",
    "        \"Mucocele\",\n",
    "        \"Actinic Keratosis\",\n",
    "    ],\n",
    "    \"Chronic Conditions\": [\n",
    "        \"Hypertension\",\n",
    "        \"diabetes\",\n",
    "        \"Arthritis\",\n",
    "        \"Cervical spondylosis\",\n",
    "        \"Varicose Veins\",\n",
    "        \"Heart hurts\",\n",
    "        \"Fibromyalgia\",\n",
    "        \"Tuberous Sclerosis\",\n",
    "        \"Type 2 Diabetes\",\n",
    "        \"Endometriosis\",\n",
    "        \"Hypocalcemia\",\n",
    "        \"Spondylosis\",\n",
    "        \"Type 1 Diabetes\",\n",
    "        \"Chronic Rheumatic Fever\",\n",
    "        \"Juvenile Rheumatoid Arthritis\",\n",
    "        \"Rheumatoid Arthritis\",\n",
    "        \"Turner syndrome\",\n",
    "        \"Testicular Cancer\",\n",
    "        \"Premature Ventricular Cancer (PVCs)\",\n",
    "        \"Protein Deficiency\",\n",
    "        \"Esophageal Cancer\",\n",
    "        \"Osteoporosis\",\n",
    "        \"Cryptorchidism\",\n",
    "        \"Leukemia\",\n",
    "        \"Hydrocephalus\",\n",
    "        \"Premature Ventricular Contractions (PVCs)\",\n",
    "        \"Thyroid Disease\",\n",
    "        \"Anemia due to Malignancy\",\n",
    "        \"Breast Cancer\",\n",
    "        \"Osteoarthritis\",\n",
    "        \"Von Willebrand Disease\",\n",
    "        \"Obesity\",\n",
    "    ],\n",
    "    \"Respiratory & Sensory Issues\": [\n",
    "        \"Cough\",\n",
    "        \"Feeling cold\",\n",
    "        \"Hard to breath\",\n",
    "        \"Bronchial Asthma\",\n",
    "        \"Common Cold\",\n",
    "        \"Ear ache\",\n",
    "        \"Blurry vision\",\n",
    "        \"Presbycusis\",\n",
    "        \"Astigmatism\",\n",
    "        \"Vocal cord polyp\",\n",
    "        \"Macular Degeneration\",\n",
    "        \"Pulmonary Congestion\",\n",
    "    ],\n",
    "    \"Allergic/Immunologic Reactions\": [\n",
    "        \"allergy\",\n",
    "        \"drug reaction\",\n",
    "        \"Conjunctivitis due to Allergy\",\n",
    "    ],\n",
    "    \"Neurological & General Symptoms\": [\n",
    "        \"Migraine\",\n",
    "        \"Feeling dizzy\",\n",
    "        \"Emotional pain\",\n",
    "        \"Body feels weak\",\n",
    "        \"Panic disorder\",\n",
    "        \"Poisoning due to Antidepressants\",\n",
    "        \"Tension Headache\",\n",
    "        \"Myoclonus\",\n",
    "        \"Ethylene glycol poisoning\",\n",
    "    ],\n",
    "    \"Pain & Injuries\": [\n",
    "        \"Shoulder pain\",\n",
    "        \"Joint pain\",\n",
    "        \"Knee pain\",\n",
    "        \"Muscle pain\",\n",
    "        \"Back pain\",\n",
    "        \"Neck pain\",\n",
    "        \"Foot ache\",\n",
    "        \"Head ache\",\n",
    "        \"Internal pain\",\n",
    "        \"Injury from sports\",\n",
    "        \"Sciatica\",\n",
    "        \"Complex Regional Pain Syndrome (CRPS)\",\n",
    "        \"Dislocation of the Elbow\",\n",
    "        \"Bone Spur of the Calcaneus\",\n",
    "        \"Bursitis\",\n",
    "        \"Urinary Stones (Kidney Stones)\",\n",
    "    ],\n",
    "    \"Gastrointestinal & Hepatobiliary Conditions\": [\n",
    "        \"Stomach ache\",\n",
    "        \"peptic ulcer disease\",\n",
    "        \"gastroesophageal reflux disease\",\n",
    "        \"Jaundice\",\n",
    "        \"Neonatal Jaundice\",\n",
    "        \"Indigestion\",\n",
    "        \"Gastroenteritis (Stomach Flu)\",\n",
    "    ],\n",
    "}"
   ]
  },
  {
   "cell_type": "code",
   "execution_count": 28,
   "metadata": {},
   "outputs": [],
   "source": [
    "# Flatten the medical_condition_mapping into a condition-to-category mapping\n",
    "condition_to_category = {\n",
    "    condition: category\n",
    "    for category, conditions in medical_condition_mapping.items()\n",
    "    for condition in conditions\n",
    "}\n",
    "\n",
    "# Map the categories to the 'og_label' column\n",
    "bigdata[\"LABEL\"] = bigdata[\"og_label\"].map(condition_to_category)"
   ]
  },
  {
   "cell_type": "code",
   "execution_count": 29,
   "metadata": {},
   "outputs": [
    {
     "data": {
      "text/plain": [
       "og_label\n",
       "Ethylene glycol poisoning-1    1\n",
       "Cystic Fibrosis                1\n",
       "Esophageal Varices             1\n",
       "Myopia                         1\n",
       "Adrenal Cancer                 1\n",
       "                              ..\n",
       "Colonic Polyp                  1\n",
       "Heart Block                    1\n",
       "Marijuana Abuse                1\n",
       "Abdominal Hernia               1\n",
       "Bronchitis                     1\n",
       "Name: count, Length: 330, dtype: int64"
      ]
     },
     "execution_count": 29,
     "metadata": {},
     "output_type": "execute_result"
    }
   ],
   "source": [
    "# see which ones I havent mapped yet\n",
    "bigdata[bigdata[\"LABEL\"].isna()][\"og_label\"].value_counts()"
   ]
  },
  {
   "cell_type": "code",
   "execution_count": 30,
   "metadata": {},
   "outputs": [
    {
     "data": {
      "text/plain": [
       "LABEL\n",
       "Infections                                     368\n",
       "Dermatological & Skin Conditions               346\n",
       "Chronic Conditions                             310\n",
       "Pain & Injuries                                298\n",
       "Respiratory & Sensory Issues                   242\n",
       "Gastrointestinal & Hepatobiliary Conditions    180\n",
       "Neurological & General Symptoms                131\n",
       "Allergic/Immunologic Reactions                 101\n",
       "Name: count, dtype: int64"
      ]
     },
     "execution_count": 30,
     "metadata": {},
     "output_type": "execute_result"
    }
   ],
   "source": [
    "bigdata[\"LABEL\"].value_counts()"
   ]
  },
  {
   "cell_type": "markdown",
   "metadata": {},
   "source": [
    "ensure no data leakage\n",
    "\n",
    "reduce num labels\n",
    "\n",
    "if still weird, \n",
    "\n",
    "F1 score (Pr) see whats going on, will help see clas imbalance"
   ]
  },
  {
   "cell_type": "code",
   "execution_count": 32,
   "metadata": {},
   "outputs": [
    {
     "data": {
      "text/html": [
       "<div>\n",
       "<style scoped>\n",
       "    .dataframe tbody tr th:only-of-type {\n",
       "        vertical-align: middle;\n",
       "    }\n",
       "\n",
       "    .dataframe tbody tr th {\n",
       "        vertical-align: top;\n",
       "    }\n",
       "\n",
       "    .dataframe thead th {\n",
       "        text-align: right;\n",
       "    }\n",
       "</style>\n",
       "<table border=\"1\" class=\"dataframe\">\n",
       "  <thead>\n",
       "    <tr style=\"text-align: right;\">\n",
       "      <th></th>\n",
       "      <th>text</th>\n",
       "      <th>og_label</th>\n",
       "      <th>LABEL</th>\n",
       "    </tr>\n",
       "  </thead>\n",
       "  <tbody>\n",
       "    <tr>\n",
       "      <th>0</th>\n",
       "      <td>When I remember her I feel down</td>\n",
       "      <td>Emotional pain</td>\n",
       "      <td>Neurological &amp; General Symptoms</td>\n",
       "    </tr>\n",
       "    <tr>\n",
       "      <th>1</th>\n",
       "      <td>When I carry heavy things I feel like breaking...</td>\n",
       "      <td>Hair falling out</td>\n",
       "      <td>Dermatological &amp; Skin Conditions</td>\n",
       "    </tr>\n",
       "    <tr>\n",
       "      <th>2</th>\n",
       "      <td>there is too much pain when i move my arm</td>\n",
       "      <td>Heart hurts</td>\n",
       "      <td>Chronic Conditions</td>\n",
       "    </tr>\n",
       "    <tr>\n",
       "      <th>3</th>\n",
       "      <td>My son had his lip pierced and it is swollen a...</td>\n",
       "      <td>Infected wound</td>\n",
       "      <td>Infections</td>\n",
       "    </tr>\n",
       "    <tr>\n",
       "      <th>4</th>\n",
       "      <td>My muscles in my lower back are aching</td>\n",
       "      <td>Infected wound</td>\n",
       "      <td>Infections</td>\n",
       "    </tr>\n",
       "    <tr>\n",
       "      <th>5</th>\n",
       "      <td>i have muscle pain that my back\\nI Have Muscle...</td>\n",
       "      <td>Foot ache</td>\n",
       "      <td>Pain &amp; Injuries</td>\n",
       "    </tr>\n",
       "    <tr>\n",
       "      <th>6</th>\n",
       "      <td>I have muscle pain in my left leg</td>\n",
       "      <td>Shoulder pain</td>\n",
       "      <td>Pain &amp; Injuries</td>\n",
       "    </tr>\n",
       "    <tr>\n",
       "      <th>7</th>\n",
       "      <td>I have cut my finger because of playing footba...</td>\n",
       "      <td>Injury from sports</td>\n",
       "      <td>Pain &amp; Injuries</td>\n",
       "    </tr>\n",
       "    <tr>\n",
       "      <th>8</th>\n",
       "      <td>I have acne in my face and other problems in m...</td>\n",
       "      <td>Skin issue</td>\n",
       "      <td>Dermatological &amp; Skin Conditions</td>\n",
       "    </tr>\n",
       "    <tr>\n",
       "      <th>9</th>\n",
       "      <td>I have a strange rash on my arm</td>\n",
       "      <td>Foot ache</td>\n",
       "      <td>Pain &amp; Injuries</td>\n",
       "    </tr>\n",
       "    <tr>\n",
       "      <th>10</th>\n",
       "      <td>I have a sharp pain in my lower stomach.</td>\n",
       "      <td>Stomach ache</td>\n",
       "      <td>Gastrointestinal &amp; Hepatobiliary Conditions</td>\n",
       "    </tr>\n",
       "    <tr>\n",
       "      <th>11</th>\n",
       "      <td>i have a knee pain when i walk a lot</td>\n",
       "      <td>Knee pain</td>\n",
       "      <td>Pain &amp; Injuries</td>\n",
       "    </tr>\n",
       "    <tr>\n",
       "      <th>12</th>\n",
       "      <td>dr. I feel a strange and powerful pain inside ...</td>\n",
       "      <td>Heart hurts</td>\n",
       "      <td>Chronic Conditions</td>\n",
       "    </tr>\n",
       "    <tr>\n",
       "      <th>13</th>\n",
       "      <td>Don't cry</td>\n",
       "      <td>Joint pain</td>\n",
       "      <td>Pain &amp; Injuries</td>\n",
       "    </tr>\n",
       "    <tr>\n",
       "      <th>14</th>\n",
       "      <td>I have for dia</td>\n",
       "      <td>Heart hurts</td>\n",
       "      <td>Chronic Conditions</td>\n",
       "    </tr>\n",
       "    <tr>\n",
       "      <th>15</th>\n",
       "      <td>I used to be out of breath after going up a do...</td>\n",
       "      <td>Hard to breath</td>\n",
       "      <td>Respiratory &amp; Sensory Issues</td>\n",
       "    </tr>\n",
       "    <tr>\n",
       "      <th>16</th>\n",
       "      <td>i feel that it's hard to breath for me special...</td>\n",
       "      <td>Hard to breath</td>\n",
       "      <td>Respiratory &amp; Sensory Issues</td>\n",
       "    </tr>\n",
       "    <tr>\n",
       "      <th>17</th>\n",
       "      <td>I read a book for along time and when I finish...</td>\n",
       "      <td>Head ache</td>\n",
       "      <td>Pain &amp; Injuries</td>\n",
       "    </tr>\n",
       "    <tr>\n",
       "      <th>18</th>\n",
       "      <td>i cant sleep because of cold</td>\n",
       "      <td>Injury from sports</td>\n",
       "      <td>Pain &amp; Injuries</td>\n",
       "    </tr>\n",
       "    <tr>\n",
       "      <th>19</th>\n",
       "      <td>My infected wound cause fever</td>\n",
       "      <td>Skin issue</td>\n",
       "      <td>Dermatological &amp; Skin Conditions</td>\n",
       "    </tr>\n",
       "  </tbody>\n",
       "</table>\n",
       "</div>"
      ],
      "text/plain": [
       "                                                 text            og_label  \\\n",
       "0                     When I remember her I feel down      Emotional pain   \n",
       "1   When I carry heavy things I feel like breaking...    Hair falling out   \n",
       "2           there is too much pain when i move my arm         Heart hurts   \n",
       "3   My son had his lip pierced and it is swollen a...      Infected wound   \n",
       "4              My muscles in my lower back are aching      Infected wound   \n",
       "5   i have muscle pain that my back\\nI Have Muscle...           Foot ache   \n",
       "6                   I have muscle pain in my left leg       Shoulder pain   \n",
       "7   I have cut my finger because of playing footba...  Injury from sports   \n",
       "8   I have acne in my face and other problems in m...          Skin issue   \n",
       "9                     I have a strange rash on my arm           Foot ache   \n",
       "10           I have a sharp pain in my lower stomach.        Stomach ache   \n",
       "11               i have a knee pain when i walk a lot           Knee pain   \n",
       "12  dr. I feel a strange and powerful pain inside ...         Heart hurts   \n",
       "13                                          Don't cry          Joint pain   \n",
       "14                                     I have for dia         Heart hurts   \n",
       "15  I used to be out of breath after going up a do...      Hard to breath   \n",
       "16  i feel that it's hard to breath for me special...      Hard to breath   \n",
       "17  I read a book for along time and when I finish...           Head ache   \n",
       "18                       i cant sleep because of cold  Injury from sports   \n",
       "19                      My infected wound cause fever          Skin issue   \n",
       "\n",
       "                                          LABEL  \n",
       "0               Neurological & General Symptoms  \n",
       "1              Dermatological & Skin Conditions  \n",
       "2                            Chronic Conditions  \n",
       "3                                    Infections  \n",
       "4                                    Infections  \n",
       "5                               Pain & Injuries  \n",
       "6                               Pain & Injuries  \n",
       "7                               Pain & Injuries  \n",
       "8              Dermatological & Skin Conditions  \n",
       "9                               Pain & Injuries  \n",
       "10  Gastrointestinal & Hepatobiliary Conditions  \n",
       "11                              Pain & Injuries  \n",
       "12                           Chronic Conditions  \n",
       "13                              Pain & Injuries  \n",
       "14                           Chronic Conditions  \n",
       "15                 Respiratory & Sensory Issues  \n",
       "16                 Respiratory & Sensory Issues  \n",
       "17                              Pain & Injuries  \n",
       "18                              Pain & Injuries  \n",
       "19             Dermatological & Skin Conditions  "
      ]
     },
     "execution_count": 32,
     "metadata": {},
     "output_type": "execute_result"
    }
   ],
   "source": [
    "bigdata.head(20)"
   ]
  },
  {
   "cell_type": "code",
   "execution_count": 31,
   "metadata": {},
   "outputs": [
    {
     "data": {
      "text/plain": [
       "(2306, 3)"
      ]
     },
     "execution_count": 31,
     "metadata": {},
     "output_type": "execute_result"
    }
   ],
   "source": [
    "bigdata.shape"
   ]
  },
  {
   "cell_type": "code",
   "execution_count": 26,
   "metadata": {},
   "outputs": [],
   "source": [
    "bigdata.to_csv(\"./data/final_data.csv\", index=False)"
   ]
  }
 ],
 "metadata": {
  "kernelspec": {
   "display_name": "base",
   "language": "python",
   "name": "python3"
  },
  "language_info": {
   "codemirror_mode": {
    "name": "ipython",
    "version": 3
   },
   "file_extension": ".py",
   "mimetype": "text/x-python",
   "name": "python",
   "nbconvert_exporter": "python",
   "pygments_lexer": "ipython3",
   "version": "3.12.6"
  }
 },
 "nbformat": 4,
 "nbformat_minor": 2
}
