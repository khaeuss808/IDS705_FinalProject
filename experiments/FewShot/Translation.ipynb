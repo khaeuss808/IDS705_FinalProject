version https://git-lfs.github.com/spec/v1
oid sha256:d7062f12d6f67447f6561e375bea9ff432560a411cda8a66fe3ee3be340925d8
size 20693
