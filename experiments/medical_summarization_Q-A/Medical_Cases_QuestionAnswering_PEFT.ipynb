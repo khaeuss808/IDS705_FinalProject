version https://git-lfs.github.com/spec/v1
oid sha256:e496b2658b70a92975140d1aa2d11a8cac586df0a49e2a4970df5f899aad88a4
size 254127
