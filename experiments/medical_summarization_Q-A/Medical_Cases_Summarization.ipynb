version https://git-lfs.github.com/spec/v1
oid sha256:9e0f42e650d9f118e25b529cced79f17a4a6e77a1b8d10436e54d338dc6ef913
size 242358
