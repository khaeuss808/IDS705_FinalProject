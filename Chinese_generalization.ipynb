{
 "cells": [
  {
   "cell_type": "markdown",
   "metadata": {},
   "source": [
    "# bert-base-uncased"
   ]
  },
  {
   "cell_type": "code",
   "execution_count": 2,
   "metadata": {},
   "outputs": [],
   "source": [
    "from deep_translator import GoogleTranslator\n",
    "import pandas as pd\n",
    "\n",
    "\n",
    "df = pd.read_csv(\"final_data.csv\")[[\"text\", \"LABEL\"]].rename(\n",
    "    columns={\"text\": \"phrase\", \"LABEL\": \"label\"}\n",
    ")\n",
    "sample_df = df.sample(10, random_state=42).reset_index(drop=True)\n",
    "\n",
    "# Translate English to Chinese\n",
    "sample_df[\"translated_phrase\"] = sample_df[\"phrase\"].apply(\n",
    "    lambda x: GoogleTranslator(source=\"en\", target=\"zh-CN\").translate(x)\n",
    ")"
   ]
  },
  {
   "cell_type": "code",
   "execution_count": 3,
   "metadata": {},
   "outputs": [],
   "source": [
    "from transformers import BertTokenizer, BertForSequenceClassification\n",
    "import torch\n",
    "\n",
    "model_path = \"bert_output\"\n",
    "tokenizer = BertTokenizer.from_pretrained(\"bert-base-uncased\")\n",
    "model = BertForSequenceClassification.from_pretrained(model_path)\n",
    "model.eval()\n",
    "\n",
    "# Tokenize Chinese text (zero-shot)\n",
    "inputs = tokenizer(\n",
    "    sample_df[\"translated_phrase\"].tolist(),\n",
    "    padding=True,\n",
    "    truncation=True,\n",
    "    return_tensors=\"pt\",\n",
    ")\n",
    "\n",
    "with torch.no_grad():\n",
    "    outputs = model(**inputs)\n",
    "    predictions = torch.argmax(outputs.logits, dim=1)"
   ]
  },
  {
   "cell_type": "code",
   "execution_count": 4,
   "metadata": {},
   "outputs": [
    {
     "data": {
      "text/html": [
       "<div>\n",
       "<style scoped>\n",
       "    .dataframe tbody tr th:only-of-type {\n",
       "        vertical-align: middle;\n",
       "    }\n",
       "\n",
       "    .dataframe tbody tr th {\n",
       "        vertical-align: top;\n",
       "    }\n",
       "\n",
       "    .dataframe thead th {\n",
       "        text-align: right;\n",
       "    }\n",
       "</style>\n",
       "<table border=\"1\" class=\"dataframe\">\n",
       "  <thead>\n",
       "    <tr style=\"text-align: right;\">\n",
       "      <th></th>\n",
       "      <th>phrase</th>\n",
       "      <th>translated_phrase</th>\n",
       "      <th>label</th>\n",
       "      <th>predicted_label</th>\n",
       "    </tr>\n",
       "  </thead>\n",
       "  <tbody>\n",
       "    <tr>\n",
       "      <th>0</th>\n",
       "      <td>Blood is in my pee, and I have a low body temp...</td>\n",
       "      <td>血液在我的小便中，体温低。我实际上有着持续的头痛，通常很强，无法控制的是小便的需求。此外，我...</td>\n",
       "      <td>Infections</td>\n",
       "      <td>Allergic/Immunologic Reactions</td>\n",
       "    </tr>\n",
       "    <tr>\n",
       "      <th>1</th>\n",
       "      <td>My ear ache when I'm listening to music.</td>\n",
       "      <td>当我听音乐时，我的耳朵疼。</td>\n",
       "      <td>Respiratory &amp; Sensory Issues</td>\n",
       "      <td>Neurological &amp; General Symptoms</td>\n",
       "    </tr>\n",
       "    <tr>\n",
       "      <th>2</th>\n",
       "      <td>I have slow healing of wounds and cuts. I have...</td>\n",
       "      <td>我的伤口和切割疗法缓慢。我的手里有这种刺痛感，手和脚上的麻木</td>\n",
       "      <td>Chronic Conditions</td>\n",
       "      <td>Neurological &amp; General Symptoms</td>\n",
       "    </tr>\n",
       "    <tr>\n",
       "      <th>3</th>\n",
       "      <td>I have a sharp pain in my neck</td>\n",
       "      <td>我的脖子剧烈疼痛</td>\n",
       "      <td>Pain &amp; Injuries</td>\n",
       "      <td>Neurological &amp; General Symptoms</td>\n",
       "    </tr>\n",
       "    <tr>\n",
       "      <th>4</th>\n",
       "      <td>I have a runny nose and I am sneezing all the ...</td>\n",
       "      <td>我的鼻子流鼻涕，一直在打喷嚏。我的眼睛发痒且经常水，我一直在咳嗽。我的头一直很痛</td>\n",
       "      <td>Allergic/Immunologic Reactions</td>\n",
       "      <td>Allergic/Immunologic Reactions</td>\n",
       "    </tr>\n",
       "    <tr>\n",
       "      <th>5</th>\n",
       "      <td>I'm having problems breathing and have a very ...</td>\n",
       "      <td>我呼吸困难，发高烧。我很汗，经历了极端的疲劳和寒冷。我的心正在赛车，我正在咳嗽一些褐色的粘液。</td>\n",
       "      <td>Infections</td>\n",
       "      <td>Allergic/Immunologic Reactions</td>\n",
       "    </tr>\n",
       "    <tr>\n",
       "      <th>6</th>\n",
       "      <td>its been a week , i am suffering from continio...</td>\n",
       "      <td>已经有一个星期了，我正遭受持续的健康问题，例如干咳嗽，呼吸问题，全天疲软。</td>\n",
       "      <td>Respiratory &amp; Sensory Issues</td>\n",
       "      <td>Neurological &amp; General Symptoms</td>\n",
       "    </tr>\n",
       "    <tr>\n",
       "      <th>7</th>\n",
       "      <td>I have a nasal congestion and blocked nose. So...</td>\n",
       "      <td>我有鼻塞和鼻子阻塞。有时候，晚上我会感到胸痛和紧绷。我也失去了气味和味道</td>\n",
       "      <td>Allergic/Immunologic Reactions</td>\n",
       "      <td>Neurological &amp; General Symptoms</td>\n",
       "    </tr>\n",
       "    <tr>\n",
       "      <th>8</th>\n",
       "      <td>Blurred or hazy vision, eye pain or discomfort...</td>\n",
       "      <td>视力模糊或朦胧，眼睛疼痛或不适，眼睛发红或刺激，撕裂过度，对光的敏感（恐惧症），异物体内感觉...</td>\n",
       "      <td>NaN</td>\n",
       "      <td>Allergic/Immunologic Reactions</td>\n",
       "    </tr>\n",
       "    <tr>\n",
       "      <th>9</th>\n",
       "      <td>Back pain, a dry cough, and a lack of muscle s...</td>\n",
       "      <td>背痛，干咳嗽以及缺乏肌肉力量困扰着我。我的脖子很痛，我一直感到头昏眼花和发抖。</td>\n",
       "      <td>Chronic Conditions</td>\n",
       "      <td>Allergic/Immunologic Reactions</td>\n",
       "    </tr>\n",
       "  </tbody>\n",
       "</table>\n",
       "</div>"
      ],
      "text/plain": [
       "                                              phrase  \\\n",
       "0  Blood is in my pee, and I have a low body temp...   \n",
       "1           My ear ache when I'm listening to music.   \n",
       "2  I have slow healing of wounds and cuts. I have...   \n",
       "3                     I have a sharp pain in my neck   \n",
       "4  I have a runny nose and I am sneezing all the ...   \n",
       "5  I'm having problems breathing and have a very ...   \n",
       "6  its been a week , i am suffering from continio...   \n",
       "7  I have a nasal congestion and blocked nose. So...   \n",
       "8  Blurred or hazy vision, eye pain or discomfort...   \n",
       "9  Back pain, a dry cough, and a lack of muscle s...   \n",
       "\n",
       "                                   translated_phrase  \\\n",
       "0  血液在我的小便中，体温低。我实际上有着持续的头痛，通常很强，无法控制的是小便的需求。此外，我...   \n",
       "1                                      当我听音乐时，我的耳朵疼。   \n",
       "2                     我的伤口和切割疗法缓慢。我的手里有这种刺痛感，手和脚上的麻木   \n",
       "3                                           我的脖子剧烈疼痛   \n",
       "4           我的鼻子流鼻涕，一直在打喷嚏。我的眼睛发痒且经常水，我一直在咳嗽。我的头一直很痛   \n",
       "5    我呼吸困难，发高烧。我很汗，经历了极端的疲劳和寒冷。我的心正在赛车，我正在咳嗽一些褐色的粘液。   \n",
       "6              已经有一个星期了，我正遭受持续的健康问题，例如干咳嗽，呼吸问题，全天疲软。   \n",
       "7               我有鼻塞和鼻子阻塞。有时候，晚上我会感到胸痛和紧绷。我也失去了气味和味道   \n",
       "8  视力模糊或朦胧，眼睛疼痛或不适，眼睛发红或刺激，撕裂过度，对光的敏感（恐惧症），异物体内感觉...   \n",
       "9            背痛，干咳嗽以及缺乏肌肉力量困扰着我。我的脖子很痛，我一直感到头昏眼花和发抖。   \n",
       "\n",
       "                            label                  predicted_label  \n",
       "0                      Infections   Allergic/Immunologic Reactions  \n",
       "1    Respiratory & Sensory Issues  Neurological & General Symptoms  \n",
       "2              Chronic Conditions  Neurological & General Symptoms  \n",
       "3                 Pain & Injuries  Neurological & General Symptoms  \n",
       "4  Allergic/Immunologic Reactions   Allergic/Immunologic Reactions  \n",
       "5                      Infections   Allergic/Immunologic Reactions  \n",
       "6    Respiratory & Sensory Issues  Neurological & General Symptoms  \n",
       "7  Allergic/Immunologic Reactions  Neurological & General Symptoms  \n",
       "8                             NaN   Allergic/Immunologic Reactions  \n",
       "9              Chronic Conditions   Allergic/Immunologic Reactions  "
      ]
     },
     "execution_count": 4,
     "metadata": {},
     "output_type": "execute_result"
    }
   ],
   "source": [
    "# Your label mapping\n",
    "id2label = {\n",
    "    0: \"Neurological & General Symptoms\",\n",
    "    1: \"Dermatological & Skin Conditions\",\n",
    "    2: \"Chronic Conditions\",\n",
    "    3: \"Infections\",\n",
    "    4: \"Pain-related Conditions\",\n",
    "    5: \"Respiratory & Sensory Issues\",\n",
    "    6: \"Gastrointestinal Conditions\",\n",
    "    7: \"Allergic/Immunologic Reactions\",\n",
    "    8: \"Hepatobiliary\",\n",
    "    9: \"Trauma/Injuries\",\n",
    "}\n",
    "\n",
    "# Add predictions to your dataframe\n",
    "sample_df[\"predicted_label\"] = [id2label[p.item()] for p in predictions]\n",
    "\n",
    "# Show results\n",
    "sample_df[[\"phrase\", \"translated_phrase\", \"label\", \"predicted_label\"]]"
   ]
  },
  {
   "cell_type": "code",
   "execution_count": 5,
   "metadata": {},
   "outputs": [],
   "source": [
    "import pandas as pd\n",
    "from datasets import Dataset\n",
    "\n",
    "# Load and preprocess your English-labeled data\n",
    "df = pd.read_csv(\"final_data.csv\")[[\"text\", \"LABEL\"]]\n",
    "df = df.rename(columns={\"text\": \"phrase\", \"LABEL\": \"label\"})\n",
    "\n",
    "# Encode labels\n",
    "unique_labels = df[\"label\"].unique().tolist()\n",
    "label2id = {label: i for i, label in enumerate(unique_labels)}\n",
    "id2label = {i: label for label, i in label2id.items()}\n",
    "df[\"label_id\"] = df[\"label\"].map(label2id)\n",
    "\n",
    "# Train-test split\n",
    "from sklearn.model_selection import train_test_split\n",
    "\n",
    "train_df, test_df = train_test_split(df, test_size=0.2, random_state=42)\n",
    "train_ds = Dataset.from_pandas(train_df[[\"phrase\", \"label_id\"]])\n",
    "test_ds = Dataset.from_pandas(test_df[[\"phrase\", \"label_id\"]])"
   ]
  },
  {
   "cell_type": "markdown",
   "metadata": {},
   "source": [
    "# bert-base-multilingual"
   ]
  },
  {
   "cell_type": "code",
   "execution_count": 6,
   "metadata": {},
   "outputs": [
    {
     "data": {
      "application/vnd.jupyter.widget-view+json": {
       "model_id": "353e0e730add4fe7b858d8750dce568d",
       "version_major": 2,
       "version_minor": 0
      },
      "text/plain": [
       "Map:   0%|          | 0/1844 [00:00<?, ? examples/s]"
      ]
     },
     "metadata": {},
     "output_type": "display_data"
    },
    {
     "data": {
      "application/vnd.jupyter.widget-view+json": {
       "model_id": "bf0b706622d54925b272b40cdce7aec0",
       "version_major": 2,
       "version_minor": 0
      },
      "text/plain": [
       "Map:   0%|          | 0/462 [00:00<?, ? examples/s]"
      ]
     },
     "metadata": {},
     "output_type": "display_data"
    }
   ],
   "source": [
    "from transformers import BertTokenizer\n",
    "\n",
    "tokenizer = BertTokenizer.from_pretrained(\"bert-base-multilingual-cased\")\n",
    "\n",
    "\n",
    "def tokenize_function(example):\n",
    "    return tokenizer(\n",
    "        example[\"phrase\"], padding=\"max_length\", truncation=True, max_length=128\n",
    "    )\n",
    "\n",
    "\n",
    "train_ds = train_ds.map(tokenize_function, batched=True)\n",
    "test_ds = test_ds.map(tokenize_function, batched=True)\n",
    "\n",
    "train_ds = train_ds.rename_column(\"label_id\", \"labels\")\n",
    "test_ds = test_ds.rename_column(\"label_id\", \"labels\")\n",
    "train_ds.set_format(\"torch\", columns=[\"input_ids\", \"attention_mask\", \"labels\"])\n",
    "test_ds.set_format(\"torch\", columns=[\"input_ids\", \"attention_mask\", \"labels\"])"
   ]
  },
  {
   "cell_type": "code",
   "execution_count": 7,
   "metadata": {},
   "outputs": [
    {
     "name": "stderr",
     "output_type": "stream",
     "text": [
      "Some weights of BertForSequenceClassification were not initialized from the model checkpoint at bert-base-multilingual-cased and are newly initialized: ['classifier.bias', 'classifier.weight']\n",
      "You should probably TRAIN this model on a down-stream task to be able to use it for predictions and inference.\n"
     ]
    }
   ],
   "source": [
    "from transformers import BertForSequenceClassification, TrainingArguments, Trainer\n",
    "from sklearn.metrics import accuracy_score, f1_score\n",
    "import numpy as np\n",
    "\n",
    "model = BertForSequenceClassification.from_pretrained(\n",
    "    \"bert-base-multilingual-cased\", num_labels=len(label2id)\n",
    ")\n",
    "\n",
    "training_args = TrainingArguments(\n",
    "    output_dir=\"./multilingual_output\",\n",
    "    eval_strategy=\"epoch\",\n",
    "    save_strategy=\"epoch\",\n",
    "    per_device_train_batch_size=8,\n",
    "    per_device_eval_batch_size=8,\n",
    "    num_train_epochs=3,\n",
    "    weight_decay=0.01,\n",
    "    logging_steps=50,\n",
    ")\n",
    "\n",
    "\n",
    "def compute_metrics(eval_pred):\n",
    "    logits, labels = eval_pred\n",
    "    preds = np.argmax(logits, axis=-1)\n",
    "    return {\n",
    "        \"accuracy\": accuracy_score(labels, preds),\n",
    "        \"f1\": f1_score(labels, preds, average=\"weighted\"),\n",
    "    }\n",
    "\n",
    "\n",
    "trainer = Trainer(\n",
    "    model=model,\n",
    "    args=training_args,\n",
    "    train_dataset=train_ds,\n",
    "    eval_dataset=test_ds,\n",
    "    compute_metrics=compute_metrics,\n",
    ")"
   ]
  },
  {
   "cell_type": "code",
   "execution_count": 8,
   "metadata": {},
   "outputs": [
    {
     "data": {
      "application/vnd.jupyter.widget-view+json": {
       "model_id": "d5a53cf526ab40c09a9e32f98a4f0ca0",
       "version_major": 2,
       "version_minor": 0
      },
      "text/plain": [
       "  0%|          | 0/693 [00:00<?, ?it/s]"
      ]
     },
     "metadata": {},
     "output_type": "display_data"
    },
    {
     "name": "stdout",
     "output_type": "stream",
     "text": [
      "{'loss': 1.897, 'grad_norm': 14.632686614990234, 'learning_rate': 4.6392496392496395e-05, 'epoch': 0.22}\n",
      "{'loss': 1.5487, 'grad_norm': 7.708217144012451, 'learning_rate': 4.278499278499279e-05, 'epoch': 0.43}\n",
      "{'loss': 1.3158, 'grad_norm': 17.75469398498535, 'learning_rate': 3.917748917748918e-05, 'epoch': 0.65}\n",
      "{'loss': 1.0466, 'grad_norm': 18.448284149169922, 'learning_rate': 3.556998556998557e-05, 'epoch': 0.87}\n"
     ]
    },
    {
     "data": {
      "application/vnd.jupyter.widget-view+json": {
       "model_id": "6531737d76ef4e6aa64b7de0a0c3011a",
       "version_major": 2,
       "version_minor": 0
      },
      "text/plain": [
       "  0%|          | 0/58 [00:00<?, ?it/s]"
      ]
     },
     "metadata": {},
     "output_type": "display_data"
    },
    {
     "name": "stdout",
     "output_type": "stream",
     "text": [
      "{'eval_loss': 0.7399147152900696, 'eval_accuracy': 0.7878787878787878, 'eval_f1': 0.7726597558517446, 'eval_runtime': 4.57, 'eval_samples_per_second': 101.094, 'eval_steps_per_second': 12.691, 'epoch': 1.0}\n",
      "{'loss': 0.8555, 'grad_norm': 17.565513610839844, 'learning_rate': 3.1962481962481965e-05, 'epoch': 1.08}\n",
      "{'loss': 0.6626, 'grad_norm': 18.814144134521484, 'learning_rate': 2.8354978354978357e-05, 'epoch': 1.3}\n",
      "{'loss': 0.6422, 'grad_norm': 12.094751358032227, 'learning_rate': 2.474747474747475e-05, 'epoch': 1.52}\n",
      "{'loss': 0.4267, 'grad_norm': 15.465435028076172, 'learning_rate': 2.113997113997114e-05, 'epoch': 1.73}\n",
      "{'loss': 0.4839, 'grad_norm': 3.4488205909729004, 'learning_rate': 1.7532467532467535e-05, 'epoch': 1.95}\n"
     ]
    },
    {
     "data": {
      "application/vnd.jupyter.widget-view+json": {
       "model_id": "62806356d80343949fe61ae5f44de695",
       "version_major": 2,
       "version_minor": 0
      },
      "text/plain": [
       "  0%|          | 0/58 [00:00<?, ?it/s]"
      ]
     },
     "metadata": {},
     "output_type": "display_data"
    },
    {
     "name": "stdout",
     "output_type": "stream",
     "text": [
      "{'eval_loss': 0.5257003307342529, 'eval_accuracy': 0.8571428571428571, 'eval_f1': 0.8568147638013891, 'eval_runtime': 4.7975, 'eval_samples_per_second': 96.3, 'eval_steps_per_second': 12.09, 'epoch': 2.0}\n",
      "{'loss': 0.373, 'grad_norm': 1.1927714347839355, 'learning_rate': 1.3924963924963927e-05, 'epoch': 2.16}\n",
      "{'loss': 0.3151, 'grad_norm': 21.020137786865234, 'learning_rate': 1.0317460317460318e-05, 'epoch': 2.38}\n",
      "{'loss': 0.3248, 'grad_norm': 26.85758399963379, 'learning_rate': 6.709956709956711e-06, 'epoch': 2.6}\n",
      "{'loss': 0.3181, 'grad_norm': 0.4657944440841675, 'learning_rate': 3.1024531024531023e-06, 'epoch': 2.81}\n"
     ]
    },
    {
     "data": {
      "application/vnd.jupyter.widget-view+json": {
       "model_id": "6c11ff370b204dfea54f8661ba7d6e85",
       "version_major": 2,
       "version_minor": 0
      },
      "text/plain": [
       "  0%|          | 0/58 [00:00<?, ?it/s]"
      ]
     },
     "metadata": {},
     "output_type": "display_data"
    },
    {
     "name": "stdout",
     "output_type": "stream",
     "text": [
      "{'eval_loss': 0.4843892753124237, 'eval_accuracy': 0.8701298701298701, 'eval_f1': 0.8705672009974252, 'eval_runtime': 4.6729, 'eval_samples_per_second': 98.867, 'eval_steps_per_second': 12.412, 'epoch': 3.0}\n",
      "{'train_runtime': 265.9514, 'train_samples_per_second': 20.801, 'train_steps_per_second': 2.606, 'train_loss': 0.7528558527408397, 'epoch': 3.0}\n"
     ]
    }
   ],
   "source": [
    "trainer.train()\n",
    "trainer.save_model(\"multilingual_output\")"
   ]
  },
  {
   "cell_type": "code",
   "execution_count": 9,
   "metadata": {},
   "outputs": [
    {
     "data": {
      "application/vnd.jupyter.widget-view+json": {
       "model_id": "ced454ff746f4cce86adcfaa6995ce1c",
       "version_major": 2,
       "version_minor": 0
      },
      "text/plain": [
       "  0%|          | 0/58 [00:00<?, ?it/s]"
      ]
     },
     "metadata": {},
     "output_type": "display_data"
    },
    {
     "name": "stdout",
     "output_type": "stream",
     "text": [
      "{'eval_loss': 0.4843892753124237, 'eval_accuracy': 0.8701298701298701, 'eval_f1': 0.8705672009974252, 'eval_runtime': 4.4432, 'eval_samples_per_second': 103.98, 'eval_steps_per_second': 13.054, 'epoch': 3.0}\n"
     ]
    }
   ],
   "source": [
    "# Evaluate model on the English validation set\n",
    "results = trainer.evaluate()\n",
    "print(results)"
   ]
  },
  {
   "cell_type": "markdown",
   "metadata": {},
   "source": [
    "# Run Zero-Shot Inference on Chinese Text with Your Multilingual Model"
   ]
  },
  {
   "cell_type": "code",
   "execution_count": 10,
   "metadata": {},
   "outputs": [
    {
     "data": {
      "text/plain": [
       "BertForSequenceClassification(\n",
       "  (bert): BertModel(\n",
       "    (embeddings): BertEmbeddings(\n",
       "      (word_embeddings): Embedding(119547, 768, padding_idx=0)\n",
       "      (position_embeddings): Embedding(512, 768)\n",
       "      (token_type_embeddings): Embedding(2, 768)\n",
       "      (LayerNorm): LayerNorm((768,), eps=1e-12, elementwise_affine=True)\n",
       "      (dropout): Dropout(p=0.1, inplace=False)\n",
       "    )\n",
       "    (encoder): BertEncoder(\n",
       "      (layer): ModuleList(\n",
       "        (0-11): 12 x BertLayer(\n",
       "          (attention): BertAttention(\n",
       "            (self): BertSdpaSelfAttention(\n",
       "              (query): Linear(in_features=768, out_features=768, bias=True)\n",
       "              (key): Linear(in_features=768, out_features=768, bias=True)\n",
       "              (value): Linear(in_features=768, out_features=768, bias=True)\n",
       "              (dropout): Dropout(p=0.1, inplace=False)\n",
       "            )\n",
       "            (output): BertSelfOutput(\n",
       "              (dense): Linear(in_features=768, out_features=768, bias=True)\n",
       "              (LayerNorm): LayerNorm((768,), eps=1e-12, elementwise_affine=True)\n",
       "              (dropout): Dropout(p=0.1, inplace=False)\n",
       "            )\n",
       "          )\n",
       "          (intermediate): BertIntermediate(\n",
       "            (dense): Linear(in_features=768, out_features=3072, bias=True)\n",
       "            (intermediate_act_fn): GELUActivation()\n",
       "          )\n",
       "          (output): BertOutput(\n",
       "            (dense): Linear(in_features=3072, out_features=768, bias=True)\n",
       "            (LayerNorm): LayerNorm((768,), eps=1e-12, elementwise_affine=True)\n",
       "            (dropout): Dropout(p=0.1, inplace=False)\n",
       "          )\n",
       "        )\n",
       "      )\n",
       "    )\n",
       "    (pooler): BertPooler(\n",
       "      (dense): Linear(in_features=768, out_features=768, bias=True)\n",
       "      (activation): Tanh()\n",
       "    )\n",
       "  )\n",
       "  (dropout): Dropout(p=0.1, inplace=False)\n",
       "  (classifier): Linear(in_features=768, out_features=9, bias=True)\n",
       ")"
      ]
     },
     "execution_count": 10,
     "metadata": {},
     "output_type": "execute_result"
    }
   ],
   "source": [
    "from transformers import BertTokenizer, BertForSequenceClassification\n",
    "import torch\n",
    "\n",
    "model_path = \"multilingual_output\"\n",
    "tokenizer = BertTokenizer.from_pretrained(\"bert-base-multilingual-cased\")\n",
    "model = BertForSequenceClassification.from_pretrained(model_path)\n",
    "model.eval()"
   ]
  },
  {
   "cell_type": "code",
   "execution_count": 11,
   "metadata": {},
   "outputs": [],
   "source": [
    "# Tokenize and predict\n",
    "inputs = tokenizer(\n",
    "    sample_df[\"translated_phrase\"].tolist(),\n",
    "    padding=True,\n",
    "    truncation=True,\n",
    "    return_tensors=\"pt\",\n",
    ")\n",
    "\n",
    "with torch.no_grad():\n",
    "    outputs = model(**inputs)\n",
    "    predictions = torch.argmax(outputs.logits, dim=1)"
   ]
  },
  {
   "cell_type": "code",
   "execution_count": 12,
   "metadata": {},
   "outputs": [
    {
     "data": {
      "text/html": [
       "<div>\n",
       "<style scoped>\n",
       "    .dataframe tbody tr th:only-of-type {\n",
       "        vertical-align: middle;\n",
       "    }\n",
       "\n",
       "    .dataframe tbody tr th {\n",
       "        vertical-align: top;\n",
       "    }\n",
       "\n",
       "    .dataframe thead th {\n",
       "        text-align: right;\n",
       "    }\n",
       "</style>\n",
       "<table border=\"1\" class=\"dataframe\">\n",
       "  <thead>\n",
       "    <tr style=\"text-align: right;\">\n",
       "      <th></th>\n",
       "      <th>phrase</th>\n",
       "      <th>translated_phrase</th>\n",
       "      <th>label</th>\n",
       "      <th>predicted_label</th>\n",
       "    </tr>\n",
       "  </thead>\n",
       "  <tbody>\n",
       "    <tr>\n",
       "      <th>0</th>\n",
       "      <td>Blood is in my pee, and I have a low body temp...</td>\n",
       "      <td>血液在我的小便中，体温低。我实际上有着持续的头痛，通常很强，无法控制的是小便的需求。此外，我...</td>\n",
       "      <td>Infections</td>\n",
       "      <td>Infections</td>\n",
       "    </tr>\n",
       "    <tr>\n",
       "      <th>1</th>\n",
       "      <td>My ear ache when I'm listening to music.</td>\n",
       "      <td>当我听音乐时，我的耳朵疼。</td>\n",
       "      <td>Respiratory &amp; Sensory Issues</td>\n",
       "      <td>Respiratory &amp; Sensory Issues</td>\n",
       "    </tr>\n",
       "    <tr>\n",
       "      <th>2</th>\n",
       "      <td>I have slow healing of wounds and cuts. I have...</td>\n",
       "      <td>我的伤口和切割疗法缓慢。我的手里有这种刺痛感，手和脚上的麻木</td>\n",
       "      <td>Chronic Conditions</td>\n",
       "      <td>Allergic/Immunologic Reactions</td>\n",
       "    </tr>\n",
       "    <tr>\n",
       "      <th>3</th>\n",
       "      <td>I have a sharp pain in my neck</td>\n",
       "      <td>我的脖子剧烈疼痛</td>\n",
       "      <td>Pain &amp; Injuries</td>\n",
       "      <td>Pain &amp; Injuries</td>\n",
       "    </tr>\n",
       "    <tr>\n",
       "      <th>4</th>\n",
       "      <td>I have a runny nose and I am sneezing all the ...</td>\n",
       "      <td>我的鼻子流鼻涕，一直在打喷嚏。我的眼睛发痒且经常水，我一直在咳嗽。我的头一直很痛</td>\n",
       "      <td>Allergic/Immunologic Reactions</td>\n",
       "      <td>Allergic/Immunologic Reactions</td>\n",
       "    </tr>\n",
       "    <tr>\n",
       "      <th>5</th>\n",
       "      <td>I'm having problems breathing and have a very ...</td>\n",
       "      <td>我呼吸困难，发高烧。我很汗，经历了极端的疲劳和寒冷。我的心正在赛车，我正在咳嗽一些褐色的粘液。</td>\n",
       "      <td>Infections</td>\n",
       "      <td>Infections</td>\n",
       "    </tr>\n",
       "    <tr>\n",
       "      <th>6</th>\n",
       "      <td>its been a week , i am suffering from continio...</td>\n",
       "      <td>已经有一个星期了，我正遭受持续的健康问题，例如干咳嗽，呼吸问题，全天疲软。</td>\n",
       "      <td>Respiratory &amp; Sensory Issues</td>\n",
       "      <td>Neurological &amp; General Symptoms</td>\n",
       "    </tr>\n",
       "    <tr>\n",
       "      <th>7</th>\n",
       "      <td>I have a nasal congestion and blocked nose. So...</td>\n",
       "      <td>我有鼻塞和鼻子阻塞。有时候，晚上我会感到胸痛和紧绷。我也失去了气味和味道</td>\n",
       "      <td>Allergic/Immunologic Reactions</td>\n",
       "      <td>Allergic/Immunologic Reactions</td>\n",
       "    </tr>\n",
       "    <tr>\n",
       "      <th>8</th>\n",
       "      <td>Blurred or hazy vision, eye pain or discomfort...</td>\n",
       "      <td>视力模糊或朦胧，眼睛疼痛或不适，眼睛发红或刺激，撕裂过度，对光的敏感（恐惧症），异物体内感觉...</td>\n",
       "      <td>NaN</td>\n",
       "      <td>NaN</td>\n",
       "    </tr>\n",
       "    <tr>\n",
       "      <th>9</th>\n",
       "      <td>Back pain, a dry cough, and a lack of muscle s...</td>\n",
       "      <td>背痛，干咳嗽以及缺乏肌肉力量困扰着我。我的脖子很痛，我一直感到头昏眼花和发抖。</td>\n",
       "      <td>Chronic Conditions</td>\n",
       "      <td>Allergic/Immunologic Reactions</td>\n",
       "    </tr>\n",
       "  </tbody>\n",
       "</table>\n",
       "</div>"
      ],
      "text/plain": [
       "                                              phrase  \\\n",
       "0  Blood is in my pee, and I have a low body temp...   \n",
       "1           My ear ache when I'm listening to music.   \n",
       "2  I have slow healing of wounds and cuts. I have...   \n",
       "3                     I have a sharp pain in my neck   \n",
       "4  I have a runny nose and I am sneezing all the ...   \n",
       "5  I'm having problems breathing and have a very ...   \n",
       "6  its been a week , i am suffering from continio...   \n",
       "7  I have a nasal congestion and blocked nose. So...   \n",
       "8  Blurred or hazy vision, eye pain or discomfort...   \n",
       "9  Back pain, a dry cough, and a lack of muscle s...   \n",
       "\n",
       "                                   translated_phrase  \\\n",
       "0  血液在我的小便中，体温低。我实际上有着持续的头痛，通常很强，无法控制的是小便的需求。此外，我...   \n",
       "1                                      当我听音乐时，我的耳朵疼。   \n",
       "2                     我的伤口和切割疗法缓慢。我的手里有这种刺痛感，手和脚上的麻木   \n",
       "3                                           我的脖子剧烈疼痛   \n",
       "4           我的鼻子流鼻涕，一直在打喷嚏。我的眼睛发痒且经常水，我一直在咳嗽。我的头一直很痛   \n",
       "5    我呼吸困难，发高烧。我很汗，经历了极端的疲劳和寒冷。我的心正在赛车，我正在咳嗽一些褐色的粘液。   \n",
       "6              已经有一个星期了，我正遭受持续的健康问题，例如干咳嗽，呼吸问题，全天疲软。   \n",
       "7               我有鼻塞和鼻子阻塞。有时候，晚上我会感到胸痛和紧绷。我也失去了气味和味道   \n",
       "8  视力模糊或朦胧，眼睛疼痛或不适，眼睛发红或刺激，撕裂过度，对光的敏感（恐惧症），异物体内感觉...   \n",
       "9            背痛，干咳嗽以及缺乏肌肉力量困扰着我。我的脖子很痛，我一直感到头昏眼花和发抖。   \n",
       "\n",
       "                            label                  predicted_label  \n",
       "0                      Infections                       Infections  \n",
       "1    Respiratory & Sensory Issues     Respiratory & Sensory Issues  \n",
       "2              Chronic Conditions   Allergic/Immunologic Reactions  \n",
       "3                 Pain & Injuries                  Pain & Injuries  \n",
       "4  Allergic/Immunologic Reactions   Allergic/Immunologic Reactions  \n",
       "5                      Infections                       Infections  \n",
       "6    Respiratory & Sensory Issues  Neurological & General Symptoms  \n",
       "7  Allergic/Immunologic Reactions   Allergic/Immunologic Reactions  \n",
       "8                             NaN                              NaN  \n",
       "9              Chronic Conditions   Allergic/Immunologic Reactions  "
      ]
     },
     "execution_count": 12,
     "metadata": {},
     "output_type": "execute_result"
    }
   ],
   "source": [
    "# Label mapping (rebuild from training)\n",
    "unique_labels = df[\"label\"].unique().tolist()\n",
    "id2label = {i: label for i, label in enumerate(unique_labels)}\n",
    "\n",
    "# Add predictions to DataFrame\n",
    "sample_df[\"predicted_label\"] = [id2label[p.item()] for p in predictions]\n",
    "\n",
    "# Show results\n",
    "sample_df[[\"phrase\", \"translated_phrase\", \"label\", \"predicted_label\"]]"
   ]
  },
  {
   "cell_type": "markdown",
   "metadata": {},
   "source": [
    "**We fine-tuned bert-base-multilingual-cased on 1,900 English-labeled medical symptom examples. We then evaluated the model on Chinese-translated versions of those examples, without any fine-tuning on Chinese data. The model correctly classified most inputs, achieving strong semantic generalization across languages. These results demonstrate the power of multilingual transformers for cross-lingual medical text classification in a zero-shot setting.**\n",
    "\n"
   ]
  },
  {
   "cell_type": "markdown",
   "metadata": {},
   "source": [
    "# Confusion Matrix"
   ]
  },
  {
   "cell_type": "code",
   "execution_count": 16,
   "metadata": {},
   "outputs": [
    {
     "data": {
      "image/png": "[encoded data removed]",
      "text/plain": [
       "<Figure size 640x480 with 1 Axes>"
      ]
     },
     "metadata": {},
     "output_type": "display_data"
    }
   ],
   "source": [
    "import matplotlib.pyplot as plt\n",
    "\n",
    "models = [\"BERT Uncased\", \"BERT Multilingual\"]\n",
    "f1_scores = [0.62, 0.87]  # Update with your actual uncased F1 if known\n",
    "\n",
    "plt.bar(models, f1_scores, color=[\"skyblue\", \"orange\"])\n",
    "plt.ylabel(\"F1 Score\")\n",
    "plt.title(\"Model Performance on English Test Set\")\n",
    "plt.ylim(0, 1)\n",
    "plt.show()"
   ]
  }
 ],
 "metadata": {
  "kernelspec": {
   "display_name": "base",
   "language": "python",
   "name": "python3"
  },
  "language_info": {
   "codemirror_mode": {
    "name": "ipython",
    "version": 3
   },
   "file_extension": ".py",
   "mimetype": "text/x-python",
   "name": "python",
   "nbconvert_exporter": "python",
   "pygments_lexer": "ipython3",
   "version": "3.12.6"
  }
 },
 "nbformat": 4,
 "nbformat_minor": 2
}
